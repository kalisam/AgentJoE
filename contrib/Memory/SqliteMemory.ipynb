{
 "cells": [
  {
   "cell_type": "markdown",
   "id": "1b1059f6-b56a-4c88-97ef-21fb80eaf139",
   "metadata": {
    "tags": []
   },
   "source": [
    "# Memory\n",
    "\n",
    "- Memory is an integral part for an Agent - it enables an Agent to learn from previous experiences\n",
    "\n",
    "- Here, we implement our own memory class in order to store memory in a suitable abstraction space from any modality - text / image / video / audio into memory chunks or graphs, and extract out the relevant chunks or graph components based on the task\n",
    "\n",
    "- All Memory classes must implement MemoryTemplate, which contains the following core functions:\n",
    "    - `append`: Takes in a list of memories, processes them and adds it to memory chunk / graph\n",
    "    - `remove`: Takes in an existing memory and removes it\n",
    "    - `reset`: Removes all memories\n",
    "    - `retrieve`: Returns the top memories according to task\n",
    "    \n",
    "- Memory class can be used separately as part of a retrieval and storage pipeline that gets interfaced with the Agent via `Global Context` or directly into the task.\n",
    "\n",
    "- Memory can also be passed into the `Agent` class as part of the `memory_bank`. If done this way, Agents will automatically use the `retrieve` function each time a subtask is done to append the relevant memories into the agent prompt. Note all other functions need to be done separately outside the `Agent` class, so it is best done within Agent wrappers\n",
    "\n",
    "```python\n",
    "class MemoryTemplate(ABC):\n",
    "    \"\"\"A generic template provided for all memories\"\"\"\n",
    "\n",
    "    @abstractmethod\n",
    "    def append(self, memory_list, mapper=None):\n",
    "        \"\"\"Appends multiple new memories\"\"\"\n",
    "        pass\n",
    "\n",
    "    @abstractmethod\n",
    "    def remove(self, existing_memory):\n",
    "        \"\"\"Removes an existing_memory. existing_memory can be str, or triplet if it is a Knowledge Graph\"\"\"\n",
    "        pass\n",
    "\n",
    "    @abstractmethod\n",
    "    def reset(self):\n",
    "        \"\"\"Clears all memories\"\"\"\n",
    "\n",
    "    @abstractmethod\n",
    "    def retrieve(self, task: str):\n",
    "        \"\"\"Retrieves some memories according to task\"\"\"\n",
    "        pass\n",
    "```\n",
    "\n"
   ]
  },
  {
   "cell_type": "markdown",
   "id": "1edb81bd",
   "metadata": {},
   "source": [
    "## Install new dependencies"
   ]
  },
  {
   "cell_type": "code",
   "execution_count": 1,
   "id": "d750e6ed",
   "metadata": {},
   "outputs": [
    {
     "name": "stdout",
     "output_type": "stream",
     "text": [
      "Requirement already satisfied: sqlite-vec in f:\\code\\agentjo\\.venv\\lib\\site-packages (0.1.6)\n",
      "Note: you may need to restart the kernel to use updated packages.\n"
     ]
    },
    {
     "name": "stderr",
     "output_type": "stream",
     "text": [
      "\n",
      "[notice] A new release of pip is available: 24.3.1 -> 25.0\n",
      "[notice] To update, run: python.exe -m pip install --upgrade pip\n"
     ]
    }
   ],
   "source": [
    "%pip install sqlite-vec"
   ]
  },
  {
   "cell_type": "markdown",
   "id": "2aaac9e6-5eed-4208-b934-0629ac09da03",
   "metadata": {},
   "source": [
    "## Some Initial Imports"
   ]
  },
  {
   "cell_type": "code",
   "execution_count": 2,
   "id": "edf2f8be-5b16-4341-aeef-6ea57662d6cd",
   "metadata": {
    "tags": []
   },
   "outputs": [],
   "source": [
    "import agentjo as aj\n"
   ]
  },
  {
   "cell_type": "markdown",
   "id": "32c47ef0-5c64-4362-9fc9-105216cda1c3",
   "metadata": {},
   "source": [
    "## Define your Memory Class Here\n",
    "- Implement your Memory that overwrites all the required abstracted functions above\n",
    "- The default Memory Class will be for a Sync Agent"
   ]
  },
  {
   "cell_type": "code",
   "execution_count": 3,
   "id": "e13e6fdd-dde6-4e8b-9552-50ce1cda405b",
   "metadata": {
    "tags": []
   },
   "outputs": [],
   "source": [
    "import sqlite3\n",
    "import sqlite_vec\n",
    "\n",
    "def get_embedding(text:str):\n",
    "  from openai import OpenAI\n",
    "  client = OpenAI(base_url='http://localhost:11434/v1/', api_key='ollama')\n",
    "  cleaned_text = text.replace(\"\\n\", \" \")\n",
    "  embedding = client.embeddings.create(input=[cleaned_text], model=\"llama3.1\").data[0].embedding\n",
    "  return embedding\n",
    "\n",
    "class SqliteMemory(aj.MemoryTemplate):\n",
    "    ''' Memory in a SQL database, retrieves using OpenAI embeddings '''\n",
    "    def __init__(self, memory_list = None, top_k: int = 3, sqlite_database=\":memory:\", embedding_procedure=async_get_embedding):\n",
    "        ''' Inputs:\n",
    "        memory_list: Initial list of memories to store\n",
    "        top_k: Number of memories to retrieve\n",
    "        sqlite_database: path to the sqlite database\n",
    "        embedding_procedure: the procedure to get embedding value for text.\n",
    "        '''\n",
    "        self.top_k = top_k\n",
    "        self.embedding_procedure = embedding_procedure\n",
    "        self.embedding_length = len(self.embedding_procedure(\"foo\"))\n",
    "\n",
    "        self.database = sqlite3.connect(sqlite_database)\n",
    "        self.database.enable_load_extension(True)\n",
    "        sqlite_vec.load(self.database)\n",
    "        self.database.enable_load_extension(False)\n",
    "        cur = self.database.cursor()\n",
    "        cur.execute(f\"CREATE VIRTUAL TABLE vec_memories USING vec0(memory_embedding float[{self.embedding_length}])\")\n",
    "        cur.execute(\"create table memories(memory text)\")\n",
    "        if memory_list is not None:\n",
    "            self.append(memory_list)\n",
    "\n",
    "    def append(self, memory_list, mapper=None):\n",
    "        \"\"\"Adds a list of memories\"\"\"\n",
    "        if not isinstance(memory_list, list):\n",
    "            memory_list = [memory_list]\n",
    "        cur = self.database.cursor()\n",
    "        for memory in memory_list:\n",
    "          embedding = self.embedding_procedure(memory)\n",
    "          cur.execute(\"INSERT INTO memories(memory) VALUES (?)\", [memory])\n",
    "          cur.execute('insert into vec_memories(rowid, memory_embedding) VALUES (?, ?)', [cur.lastrowid, sqlite_vec.serialize_float32(embedding)])\n",
    "\n",
    "    def remove(self, memory_to_remove):\n",
    "        \"\"\"Removes a memory\"\"\"\n",
    "        cur = self.database.cursor()\n",
    "        result = cur.execute(\"select rowid from memories WHERE memory = ?;\", [memory_to_remove])\n",
    "        rowid = result.fetchone()[0]\n",
    "        cur.execute(\"delete from memories WHERE rowid = ?;\", [rowid])\n",
    "        cur.execute(\"delete from vec_memories WHERE rowid = ?;\", [rowid])\n",
    "\n",
    "    def reset(self):\n",
    "        \"\"\"Clears all memory\"\"\"\n",
    "        cur = self.database.cursor()\n",
    "        cur.execute(\"DELETE FROM vec_memories;\")\n",
    "        cur.execute(\"DELETE FROM memories;\")\n",
    "        \n",
    "    def retrieve(self, task: str) -> list:\n",
    "        task_embedding = self.embedding_procedure(task)\n",
    "        \"\"\"Performs retrieval of top_k similar memories according to embedding similarity\"\"\"\n",
    "        cur = self.database.cursor()\n",
    "        rows = cur.execute(\n",
    "            \"\"\"\n",
    "              with matches as (SELECT rowid, distance FROM vec_memories WHERE memory_embedding MATCH ? AND k = ? ORDER BY distance)\n",
    "              select memory from matches left join memories on memories.rowid = matches.rowid;\n",
    "            \"\"\",\n",
    "            [sqlite_vec.serialize_float32(task_embedding), self.top_k]\n",
    "        ).fetchall()\n",
    "        return [row[0] for row in rows]\n",
    "\n"
   ]
  },
  {
   "cell_type": "markdown",
   "id": "8ea0999a-b666-4df5-8d6c-bef6f8386493",
   "metadata": {
    "tags": []
   },
   "source": [
    "### Use Memory without the Agent"
   ]
  },
  {
   "cell_type": "code",
   "execution_count": 4,
   "id": "e05b1769-9484-4d08-a7f7-091aedc69425",
   "metadata": {
    "tags": []
   },
   "outputs": [],
   "source": [
    "memory = SqliteMemory(['hello', 'goodbye', 'good night', 'good morning'], top_k = 1)"
   ]
  },
  {
   "cell_type": "code",
   "execution_count": 5,
   "id": "cd140e30-a97e-47f9-8b57-2ce6bb3eb5ee",
   "metadata": {
    "tags": []
   },
   "outputs": [
    {
     "data": {
      "text/plain": [
       "['good morning']"
      ]
     },
     "execution_count": 5,
     "metadata": {},
     "output_type": "execute_result"
    }
   ],
   "source": [
    "memory.retrieve('good day')"
   ]
  },
  {
   "cell_type": "markdown",
   "id": "f74263ed-b9c9-49e6-9ba5-53c8ed580765",
   "metadata": {
    "tags": []
   },
   "source": [
    "### Use Memory in an Agent's Memory Bank"
   ]
  },
  {
   "cell_type": "code",
   "execution_count": 6,
   "id": "c5e9aeda",
   "metadata": {},
   "outputs": [],
   "source": [
    "def llm(system_prompt: str, user_prompt: str) -> str:\n",
    "    ''' Here, we use OpenAI for illustration, you can change it to your own LLM '''\n",
    "    # ensure your LLM imports are all within this function\n",
    "    from openai import OpenAI\n",
    "    \n",
    "    # define your own LLM here\n",
    "    client = OpenAI(base_url='http://localhost:11434/v1/', api_key='ollama')\n",
    "\n",
    "    response = client.chat.completions.create(\n",
    "        model='llama3.1',\n",
    "        temperature = 0,\n",
    "        messages=[\n",
    "            {\"role\": \"system\", \"content\": system_prompt},\n",
    "            {\"role\": \"user\", \"content\": user_prompt}\n",
    "        ]\n",
    "    )\n",
    "    return response.choices[0].message.content"
   ]
  },
  {
   "cell_type": "code",
   "execution_count": 7,
   "id": "e5445510-9d8e-463c-a6f7-3235f33fcb18",
   "metadata": {
    "tags": []
   },
   "outputs": [],
   "source": [
    "def greet_user(greeting: str) -> str:\n",
    "    ''' Outputs greeting to the user '''\n",
    "    return greeting"
   ]
  },
  {
   "cell_type": "code",
   "execution_count": 8,
   "id": "7bf6a466-066a-4919-b8a8-ddc1e483024e",
   "metadata": {
    "tags": []
   },
   "outputs": [],
   "source": [
    "agent = aj.Agent('Greeting Generator', 'Greets user with the greeting present in Greet_Memory', \n",
    "              llm = llm).assign_functions([greet_user])\n",
    "agent.memory_bank['Greet_Memory'] = SqliteMemory(['hello', 'goodbye', 'good night', 'good morning'], top_k = 1)"
   ]
  },
  {
   "cell_type": "code",
   "execution_count": 9,
   "id": "0f44b898-882b-4744-8a4e-18fbb5894faa",
   "metadata": {
    "tags": []
   },
   "outputs": [
    {
     "name": "stdout",
     "output_type": "stream",
     "text": [
      "\u001b[1m\u001b[30mObservation: It is a bright sunny day\u001b[0m\n",
      "\u001b[1m\u001b[32mThoughts: Consider how to respond to the weather description.\u001b[0m\n",
      "\u001b[1m\u001b[34mSubtask identified: Output greeting based on Greet_Memory\u001b[0m\n",
      "Calling function greet_user with parameters {'greeting': 'good morning'}\n",
      "> {'output_1': 'good morning'}\n",
      "\n",
      "\u001b[1m\u001b[30mObservation: The task mentions it being a bright sunny day, which suggests a morning scenario.\u001b[0m\n",
      "\u001b[1m\u001b[32mThoughts: Considering the morning context, we can use the greeting \"good morning\" to acknowledge the user.\u001b[0m\n",
      "\u001b[1m\u001b[34mSubtask identified: Output the greeting \"good morning\" to the user.\u001b[0m\n",
      "Calling function greet_user with parameters {'greeting': 'good morning'}\n",
      "> {'output_1': 'good morning'}\n",
      "\n",
      "\u001b[1m\u001b[30mObservation: It is a bright sunny day\u001b[0m\n",
      "\u001b[1m\u001b[32mThoughts: Consider how to acknowledge the weather in response.\u001b[0m\n",
      "\u001b[1m\u001b[34mSubtask identified: Output greeting based on Greet_Memory for the current time of day.\u001b[0m\n",
      "Calling function greet_user with parameters {'greeting': 'good morning'}\n",
      "> {'output_1': 'good morning'}\n",
      "\n",
      "\u001b[1m\u001b[30mObservation: It has been observed that the user wants to acknowledge the bright sunny day.\u001b[0m\n",
      "\u001b[1m\u001b[32mThoughts: The user might want to respond with a greeting related to the time of day, considering it's a bright sunny day.\u001b[0m\n",
      "\u001b[1m\u001b[34mSubtask identified: Output a greeting to the user based on the current time of day.\u001b[0m\n",
      "Calling function greet_user with parameters {'greeting': 'good morning'}\n",
      "> {'output_1': 'good morning'}\n",
      "\n",
      "\u001b[1m\u001b[30mObservation: The task assigned by the user is to describe a bright sunny day.\u001b[0m\n",
      "\u001b[1m\u001b[32mThoughts: To complete this task, we can use our knowledge of greetings to provide a suitable response.\u001b[0m\n",
      "\u001b[1m\u001b[34mSubtask identified: Provide a greeting that matches the time of day described in the task.\u001b[0m\n",
      "Calling function greet_user with parameters {'greeting': 'good morning'}\n",
      "> {'output_1': 'good morning'}\n",
      "\n"
     ]
    },
    {
     "data": {
      "text/plain": [
       "[{'output_1': 'good morning'},\n",
       " {'output_1': 'good morning'},\n",
       " {'output_1': 'good morning'},\n",
       " {'output_1': 'good morning'},\n",
       " {'output_1': 'good morning'}]"
      ]
     },
     "execution_count": 9,
     "metadata": {},
     "output_type": "execute_result"
    }
   ],
   "source": [
    "agent.run('It is a bright sunny day')"
   ]
  },
  {
   "cell_type": "markdown",
   "id": "0ebd24dd-0d1d-4e26-b9e5-a9f6e604f96e",
   "metadata": {},
   "source": [
    "# Async Memory\n",
    "- Async memory is possible. Async memory must have async for the functions involving async processes\n",
    "- Start your Async memory class name with Async\n",
    "\n",
    "- **NOTE: When you contribute memory classes, it is not necessary to contribute the Async version**\n",
    "- **This is only for more production-based use cases**"
   ]
  },
  {
   "cell_type": "code",
   "execution_count": 10,
   "id": "0269645c-cdaa-43f4-8906-1d95026c55d9",
   "metadata": {
    "tags": []
   },
   "outputs": [],
   "source": [
    "import sqlite3\n",
    "import sqlite_vec\n",
    "\n",
    "async def async_get_embedding(text:str):\n",
    "  from openai import OpenAI\n",
    "  client = OpenAI(base_url='http://localhost:11434/v1/', api_key='ollama')\n",
    "  cleaned_text = text.replace(\"\\n\", \" \")\n",
    "  result = await client.embeddings.create(input=[cleaned_text], model=\"llama3.1\").data[0].embedding\n",
    "  return result.data[0].embedding\n",
    "\n",
    "class AsyncSqliteMemory(aj.MemoryTemplate):\n",
    "    ''' Memory in a SQL database, retrieves using OpenAI embeddings '''\n",
    "    def __init__(self, memory_list = None, top_k: int = 3, sqlite_database=\":memory:\", embedding_procedure=async_get_embedding):\n",
    "        ''' Inputs:\n",
    "        memory_list: Initial list of memories to store\n",
    "        top_k: Number of memories to retrieve\n",
    "        sqlite_database: path to the sqlite database\n",
    "        embedding_procedure: the procedure to get embedding value for text.\n",
    "        '''\n",
    "        self.top_k = top_k\n",
    "        self.embedding_procedure = embedding_procedure\n",
    "        self.embedding_length = len(self.embedding_procedure(\"foo\"))\n",
    "\n",
    "        self.database = sqlite3.connect(sqlite_database)\n",
    "        self.database.enable_load_extension(True)\n",
    "        sqlite_vec.load(self.database)\n",
    "        self.database.enable_load_extension(False)\n",
    "        cur = self.database.cursor()\n",
    "        cur.execute(f\"CREATE VIRTUAL TABLE vec_memories USING vec0(memory_embedding float[{self.embedding_length}])\")\n",
    "        cur.execute(\"create table memories(memory text)\")\n",
    "        if memory_list is not None:\n",
    "            self.append(memory_list)\n",
    "\n",
    "    def append(self, memory_list, mapper=None):\n",
    "        \"\"\"Adds a list of memories\"\"\"\n",
    "        if not isinstance(memory_list, list):\n",
    "            memory_list = [memory_list]\n",
    "        cur = self.database.cursor()\n",
    "        for memory in memory_list:\n",
    "          embedding = self.embedding_procedure(memory)\n",
    "          cur.execute(\"INSERT INTO memories(memory) VALUES (?)\", [memory])\n",
    "          cur.execute('insert into vec_memories(rowid, memory_embedding) VALUES (?, ?)', [cur.lastrowid, sqlite_vec.serialize_float32(embedding)])\n",
    "\n",
    "    def remove(self, memory_to_remove):\n",
    "        \"\"\"Removes a memory\"\"\"\n",
    "        cur = self.database.cursor()\n",
    "        result = cur.execute(\"select rowid from memories WHERE memory = ?;\", [memory_to_remove])\n",
    "        rowid = result.fetchone()[0]\n",
    "        cur.execute(\"delete from memories WHERE rowid = ?;\", [rowid])\n",
    "        cur.execute(\"delete from vec_memories WHERE rowid = ?;\", [rowid])\n",
    "\n",
    "    def reset(self):\n",
    "        \"\"\"Clears all memory\"\"\"\n",
    "        cur = self.database.cursor()\n",
    "        cur.execute(\"DELETE FROM vec_memories;\")\n",
    "        cur.execute(\"DELETE FROM memories;\")\n",
    "        \n",
    "    def retrieve(self, task: str) -> list:\n",
    "        task_embedding = self.embedding_procedure(task)\n",
    "        \"\"\"Performs retrieval of top_k similar memories according to embedding similarity\"\"\"\n",
    "        cur = self.database.cursor()\n",
    "        rows = cur.execute(\n",
    "            \"\"\"\n",
    "              with matches as (SELECT rowid, distance FROM vec_memories WHERE memory_embedding MATCH ? AND k = ? ORDER BY distance)\n",
    "              select memory from matches left join memories on memories.rowid = matches.rowid;\n",
    "            \"\"\",\n",
    "            [sqlite_vec.serialize_float32(task_embedding), self.top_k]\n",
    "        ).fetchall()\n",
    "        return [row[0] for row in rows]"
   ]
  },
  {
   "cell_type": "code",
   "execution_count": null,
   "id": "c63d37f6-5bd1-439f-b007-b990dbb8cdda",
   "metadata": {},
   "outputs": [],
   "source": []
  },
  {
   "cell_type": "markdown",
   "id": "c4281d3b-1fbf-4ef2-919f-6877299c2627",
   "metadata": {
    "tags": []
   },
   "source": [
    "### Use Memory without the Agent"
   ]
  },
  {
   "cell_type": "code",
   "execution_count": null,
   "id": "629a6f87-a6ff-4ea1-ae52-fe583b811594",
   "metadata": {
    "tags": []
   },
   "outputs": [],
   "source": []
  },
  {
   "cell_type": "code",
   "execution_count": null,
   "id": "f8b6aae0-40f0-4999-9f0f-78296d5b496a",
   "metadata": {
    "tags": []
   },
   "outputs": [],
   "source": []
  },
  {
   "cell_type": "markdown",
   "id": "33b944be-80b0-463b-a600-ccca851c11b7",
   "metadata": {
    "tags": []
   },
   "source": [
    "### Use Memory in an Agent's Memory Bank"
   ]
  },
  {
   "cell_type": "code",
   "execution_count": 14,
   "id": "82bdfa0b-5949-4c71-8748-8821f08c86fa",
   "metadata": {
    "tags": []
   },
   "outputs": [],
   "source": []
  }
 ],
 "metadata": {
  "kernelspec": {
   "display_name": ".venv",
   "language": "python",
   "name": "python3"
  },
  "language_info": {
   "codemirror_mode": {
    "name": "ipython",
    "version": 3
   },
   "file_extension": ".py",
   "mimetype": "text/x-python",
   "name": "python",
   "nbconvert_exporter": "python",
   "pygments_lexer": "ipython3",
   "version": "3.11.9"
  }
 },
 "nbformat": 4,
 "nbformat_minor": 5
}
