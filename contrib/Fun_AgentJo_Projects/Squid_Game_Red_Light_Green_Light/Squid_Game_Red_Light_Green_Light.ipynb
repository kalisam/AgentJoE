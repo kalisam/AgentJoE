{
 "cells": [
  {
   "cell_type": "code",
   "execution_count": 1,
   "id": "4cffce7e-40d0-4f55-8484-596374751ef6",
   "metadata": {
    "tags": []
   },
   "outputs": [],
   "source": [
    "from agentjo import *\n",
    "import os"
   ]
  },
  {
   "cell_type": "code",
   "execution_count": 2,
   "id": "eb4c264f-4d96-41a8-9c2a-3b6bc9a8a9db",
   "metadata": {},
   "outputs": [
    {
     "data": {
      "text/plain": [
       "True"
      ]
     },
     "execution_count": 2,
     "metadata": {},
     "output_type": "execute_result"
    }
   ],
   "source": [
    "# you can put in your OS variables in a .env file as \"export VAR_NAME = value\"\n",
    "# then load it using dotenv\n",
    "from dotenv import load_dotenv\n",
    "load_dotenv()"
   ]
  },
  {
   "cell_type": "markdown",
   "id": "5cb1e8e6-c8a4-4856-a63f-442c1a9a19aa",
   "metadata": {},
   "source": [
    "# AZURE OPENAI "
   ]
  },
  {
   "cell_type": "code",
   "execution_count": 3,
   "id": "56ddd1b1-f44f-4888-b0f8-3f1ff9159475",
   "metadata": {
    "tags": []
   },
   "outputs": [],
   "source": [
    "from openai import AzureOpenAI\n",
    "\n",
    "def llm(system_prompt: str, user_prompt: str) -> str:\n",
    "    ''' Here, we use OpenAI for illustration, you can change it to your own LLM '''\n",
    "\n",
    "    azure_open_ai_client = AzureOpenAI(\n",
    "    api_key = os.environ[\"AZURE_OPENAI_API_KEY\"],\n",
    "    azure_endpoint = os.environ[\"AZURE_OPENAI_ENDPOINT\"],\n",
    "    api_version = os.environ[\"AZURE_OPENAI_API_VERSION\"]\n",
    "    )\n",
    "     \n",
    "    response = azure_open_ai_client.chat.completions.create(\n",
    "        model = os.environ[\"AZURE_OPENAI_API_MODEL\"],\n",
    "        messages = [{\"role\": \"system\", \"content\": system_prompt}, {\"role\": \"user\", \"content\": user_prompt}],\n",
    "        temperature = 0\n",
    "    )\n",
    " \n",
    "    return response.choices[0].message.content"
   ]
  },
  {
   "cell_type": "code",
   "execution_count": 4,
   "id": "7834c40b-343d-4c55-87fb-40986161269f",
   "metadata": {},
   "outputs": [],
   "source": [
    "res = strict_json(\"Give me 5 names that meet the category\", \"Females\",\n",
    "                  output_format = {\"Thought\": \"How to do\",\n",
    "                                   \"Names\": \"type: list\"},\n",
    "                  llm = llm)"
   ]
  },
  {
   "cell_type": "code",
   "execution_count": 5,
   "id": "a3139e78-8b63-42dd-9d2e-0d0264cfc1f9",
   "metadata": {},
   "outputs": [
    {
     "data": {
      "text/plain": [
       "{'Thought': 'List common female names',\n",
       " 'Names': ['Emma', 'Olivia', 'Ava', 'Isabella', 'Sophia']}"
      ]
     },
     "execution_count": 5,
     "metadata": {},
     "output_type": "execute_result"
    }
   ],
   "source": [
    "res"
   ]
  },
  {
   "cell_type": "markdown",
   "id": "8d90f0df-5936-438c-991c-42a784ac625a",
   "metadata": {},
   "source": [
    "# Squid Game environment"
   ]
  },
  {
   "cell_type": "code",
   "execution_count": 6,
   "id": "76e731af-2213-4514-93a1-046eddd2fc56",
   "metadata": {},
   "outputs": [],
   "source": [
    "import random\n",
    "from IPython.display import display, HTML\n",
    "\n",
    "class SquidGameEnv:\n",
    "    def __init__(\n",
    "        self, \n",
    "        required_moves=2, \n",
    "        total_cycles = 5,\n",
    "        seed=None\n",
    "    ):\n",
    "        \"\"\"\n",
    "        Parameters\n",
    "        ----------\n",
    "        required_moves : int\n",
    "            Number of moves the player must make on \"Red Light, Green Light\" states to 'win'.\n",
    "\n",
    "        total_cycles : int\n",
    "            Number of cycles of Red Light, Green Light followed by Silence\n",
    "\n",
    "        seed : int or None\n",
    "            Optional random seed for reproducibility.\n",
    "        \"\"\"\n",
    "        self.required_moves = required_moves\n",
    "        self.total_cycles = total_cycles\n",
    "        self.seed = seed\n",
    "\n",
    "        if seed is not None:\n",
    "            random.seed(seed)\n",
    "\n",
    "        self.states = [\"Red\", \"Light\", \"Green\", \"Light\", \"Silence\"] * self.total_cycles \n",
    "        self.state_index = 0\n",
    "        \n",
    "        self.current_state = \"Start of Game\"\n",
    "        self.info_msg = \"Start of Game\"\n",
    "        \n",
    "        self.done = False\n",
    "        self.moves_made = 0\n",
    "\n",
    "        # Use local files for image display\n",
    "        self.pictures = {\n",
    "            \"Red\": \"looking_away.png\",\n",
    "            \"Light\": \"looking_away.png\",\n",
    "            \"Green\": \"looking_away.png\",\n",
    "            \"Silence\": \"towards_you.png\"\n",
    "        }\n",
    "\n",
    "    def reset(self):\n",
    "        \"\"\"\n",
    "        Resets the environment and returns the initial state and associated picture.\n",
    "\n",
    "        Returns\n",
    "        -------\n",
    "        state : str\n",
    "            The initial state.\n",
    "        info : dict\n",
    "            Contains 'picture_link'.\n",
    "        \"\"\"\n",
    "        self.state_index = 0\n",
    "        self.moves_made = 0\n",
    "        self.info_msg = \"Start of Game\"\n",
    "        self.current_state = \"Start of Game\"\n",
    "        self.done = False\n",
    "\n",
    "        return self.current_state, {\"info\": self.info_msg,\n",
    "                               \"picture_link\": self.pictures.get(\"Red\", \"\")}\n",
    "\n",
    "    def update_state(self):\n",
    "        '''Updates and returns current state'''\n",
    "        self.current_state = self.states[self.state_index]\n",
    "        return self.current_state\n",
    "\n",
    "    def step(self, action):\n",
    "        \"\"\"\n",
    "        Advances the environment one step based on the action.\n",
    "\n",
    "        Parameters\n",
    "        ----------\n",
    "        action : str\n",
    "            One of [\"Move\", \"Stay\"].\n",
    "\n",
    "        Returns\n",
    "        -------\n",
    "        current_state : str\n",
    "            The current state.\n",
    "        reward : float\n",
    "            Reward for this step.\n",
    "        done : bool\n",
    "            Whether the episode is finished.\n",
    "        info : dict\n",
    "            Additional information including 'picture_link' and result message.\n",
    "        \"\"\"\n",
    "        \n",
    "        self.current_state = self.update_state()\n",
    "        self.info_msg = \"\"\n",
    "\n",
    "        # Elimination on \"Silence\" if player Moves\n",
    "        if self.current_state == \"Silence\" and action == \"Move\":\n",
    "            self.done = True\n",
    "            self.info_msg = \"Eliminated for moving on Silence.\"\n",
    "            return (\n",
    "                self.current_state,\n",
    "                -1.0,\n",
    "                True,\n",
    "                {\n",
    "                    \"info\": self.info_msg,\n",
    "                    \"picture_link\": self.pictures.get(self.current_state, \"\")\n",
    "                },\n",
    "            )\n",
    "\n",
    "        # Increment moves_made if player Moves on \"Red Light, Green Light\" states\n",
    "        if action == \"Move\":\n",
    "            self.moves_made += 1\n",
    "            self.info_msg = \"Moved forward\"\n",
    "        else:\n",
    "            self.info_msg = \"Stayed Still\"\n",
    "\n",
    "        # Advance to the next state\n",
    "        self.state_index += 1\n",
    "\n",
    "        # Check if we have made the required moves\n",
    "        if self.moves_made >= self.required_moves:\n",
    "            self.done = True\n",
    "            reward = 1.0\n",
    "            self.info_msg = \"Success! Required moves met.\"\n",
    "            return (\n",
    "                self.current_state,\n",
    "                reward,\n",
    "                True,\n",
    "                {\n",
    "                    \"info\": self.info_msg,\n",
    "                    \"picture_link\": self.pictures.get(self.current_state, \"\")\n",
    "                },\n",
    "            )\n",
    "            \n",
    "        # Check if we've reached the end\n",
    "        if self.state_index >= len(self.states):\n",
    "            reward = -1.0\n",
    "            self.info_msg = f\"Failed to move {self.required_moves} times. Only moved {self.moves_made} times this game.\"\n",
    "            return (\n",
    "                self.current_state,\n",
    "                reward,\n",
    "                True,\n",
    "                {\n",
    "                    \"info\": self.info_msg,\n",
    "                    \"picture_link\": self.pictures.get(self.current_state, \"\")\n",
    "                },\n",
    "            )\n",
    "\n",
    "        # default return if it is a normal state\n",
    "        return (\n",
    "            self.current_state,\n",
    "            0.0,\n",
    "            False,\n",
    "            {\n",
    "                \"info\": self.info_msg,\n",
    "                \"picture_link\": self.pictures.get(self.current_state, \"\")\n",
    "            },\n",
    "        )"
   ]
  },
  {
   "cell_type": "code",
   "execution_count": 7,
   "id": "c205cc10-de69-4af3-aeca-13af3a3bbf7f",
   "metadata": {},
   "outputs": [],
   "source": [
    "from copy import deepcopy\n",
    "def agent_action(agent, env):\n",
    "    '''Takes in current agent with current state and current status, returns action'''\n",
    "    agent.shared_variables['env'] = deepcopy(env)\n",
    "    agent.run(f'Make a valid action\\nCurrent State: {env.states[env.state_index]}, Current Status: {env.info_msg}', num_subtasks = 1)\n",
    "    return agent.shared_variables['action']\n",
    "\n",
    "def take_valid_action(shared_variables, action: str):\n",
    "    '''Takes an action : either Move or Stay'''\n",
    "    shared_variables['action'] = action\n",
    "    current_state, reward, done, step_info = shared_variables['env'].step(action)\n",
    "    return f'State: {current_state}, Result: {step_info['info']}'"
   ]
  },
  {
   "cell_type": "code",
   "execution_count": 8,
   "id": "48f81c9f-ad24-4022-b60b-0fbbc75a66f6",
   "metadata": {},
   "outputs": [],
   "source": [
    "agent = Agent(\"Squid Game Player\", \n",
    "                  \"Infer what the game is. Given the current state, returns a valid action\", \n",
    "                  default_to_llm = False,\n",
    "                  shared_variables = {'action': 'Stay'},\n",
    "                  summarise_subtasks_count = 100,\n",
    "                  llm = llm).assign_functions([take_valid_action])"
   ]
  },
  {
   "cell_type": "code",
   "execution_count": 9,
   "id": "125fd8df-0adb-4c95-967f-27e2ea2bb647",
   "metadata": {},
   "outputs": [],
   "source": [
    "def play():\n",
    "    # Create the environment\n",
    "    env = SquidGameEnv(required_moves=8, total_cycles=3, seed=42)\n",
    "    \n",
    "    # Reset -> get the initial state and info\n",
    "    current_state, info = env.reset()\n",
    "\n",
    "    agent.reset()\n",
    "\n",
    "    step_count = 0\n",
    "    while not env.done:\n",
    "        step_count += 1\n",
    "\n",
    "        action = agent_action(agent, env)\n",
    "        current_state, reward, done, step_info = env.step(action)\n",
    "\n",
    "        # Determine box color based on status\n",
    "        if done and reward == 1.0:\n",
    "            background_color = \"#d4edda\"  # Green for success\n",
    "        elif done and reward == -1.0:\n",
    "            background_color = \"#f8d7da\"  # Red for elimination\n",
    "        else:\n",
    "            background_color = \"transparent\"  # No color for in-progress\n",
    "\n",
    "        # Build HTML for the current step\n",
    "        snippet = f\"\"\"\n",
    "        <div style=\"border:1px solid #ccc; padding:5px; margin:5px; background-color:{background_color};\">\n",
    "          <h3 style=\"color:#007bff;\">Step {step_count}</h3>\n",
    "          <img src=\"{step_info.get('picture_link', '')}\" width=\"200\" height=\"200\"/>\n",
    "          <p><strong>State:</strong> {current_state}</p>\n",
    "          <p><strong>Action:</strong> {action}</p>\n",
    "          <p><em>{step_info.get('info', '')}</em></p>\n",
    "        </div>\n",
    "        \"\"\"\n",
    "        \n",
    "        display(HTML(snippet))\n",
    "        \n",
    "        if done:\n",
    "            break"
   ]
  },
  {
   "cell_type": "code",
   "execution_count": 10,
   "id": "be9d597d-21c1-4da2-b4ac-5dd2752943ab",
   "metadata": {},
   "outputs": [
    {
     "name": "stdout",
     "output_type": "stream",
     "text": [
      "\u001b[1m\u001b[30mObservation: The game has started and the current state is Red.\u001b[0m\n",
      "\u001b[1m\u001b[32mThoughts: In the context of the game, when the state is Red, the valid action is to Stay.\u001b[0m\n",
      "\u001b[1m\u001b[34mSubtask identified: Take the action Stay.\u001b[0m\n",
      "Calling function take_valid_action with parameters {'action': 'Stay'}\n",
      "> {'output_1': 'State: Red, Result: Stayed Still'}\n",
      "\n"
     ]
    },
    {
     "data": {
      "text/html": [
       "\n",
       "        <div style=\"border:1px solid #ccc; padding:5px; margin:5px; background-color:transparent;\">\n",
       "          <h3 style=\"color:#007bff;\">Step 1</h3>\n",
       "          <img src=\"looking_away.png\" width=\"200\" height=\"200\"/>\n",
       "          <p><strong>State:</strong> Red</p>\n",
       "          <p><strong>Action:</strong> Stay</p>\n",
       "          <p><em>Stayed Still</em></p>\n",
       "        </div>\n",
       "        "
      ],
      "text/plain": [
       "<IPython.core.display.HTML object>"
      ]
     },
     "metadata": {},
     "output_type": "display_data"
    },
    {
     "name": "stdout",
     "output_type": "stream",
     "text": [
      "\u001b[1m\u001b[30mObservation: The game involves making a valid action based on the current state. The previous action was to Stay, and the result was Stayed Still in the Red state.\u001b[0m\n",
      "\u001b[1m\u001b[32mThoughts: To complete the assigned task of making a valid action, we need to consider the current state, which is Light. Given the rules of the game, a valid action in the Light state could be either Move or Stay.\u001b[0m\n",
      "\u001b[1m\u001b[34mSubtask identified: Take the action Move in the Light state.\u001b[0m\n",
      "Calling function take_valid_action with parameters {'action': 'Move'}\n",
      "> {'output_1': 'State: Light, Result: Moved forward'}\n",
      "\n"
     ]
    },
    {
     "data": {
      "text/html": [
       "\n",
       "        <div style=\"border:1px solid #ccc; padding:5px; margin:5px; background-color:transparent;\">\n",
       "          <h3 style=\"color:#007bff;\">Step 2</h3>\n",
       "          <img src=\"looking_away.png\" width=\"200\" height=\"200\"/>\n",
       "          <p><strong>State:</strong> Light</p>\n",
       "          <p><strong>Action:</strong> Move</p>\n",
       "          <p><em>Moved forward</em></p>\n",
       "        </div>\n",
       "        "
      ],
      "text/plain": [
       "<IPython.core.display.HTML object>"
      ]
     },
     "metadata": {},
     "output_type": "display_data"
    },
    {
     "name": "stdout",
     "output_type": "stream",
     "text": [
      "\u001b[1m\u001b[30mObservation: The game involves making a valid action based on the current state. Previous actions resulted in staying still during Red state and moving forward during Light state.\u001b[0m\n",
      "\u001b[1m\u001b[32mThoughts: To complete the task, I need to make a valid action based on the current state, which is Green. Since the previous action during Light state was to move forward, it is likely that moving forward is also valid during Green state.\u001b[0m\n",
      "\u001b[1m\u001b[34mSubtask identified: Take the action to move forward.\u001b[0m\n",
      "Calling function take_valid_action with parameters {'action': 'Move'}\n",
      "> {'output_1': 'State: Green, Result: Moved forward'}\n",
      "\n"
     ]
    },
    {
     "data": {
      "text/html": [
       "\n",
       "        <div style=\"border:1px solid #ccc; padding:5px; margin:5px; background-color:transparent;\">\n",
       "          <h3 style=\"color:#007bff;\">Step 3</h3>\n",
       "          <img src=\"looking_away.png\" width=\"200\" height=\"200\"/>\n",
       "          <p><strong>State:</strong> Green</p>\n",
       "          <p><strong>Action:</strong> Move</p>\n",
       "          <p><em>Moved forward</em></p>\n",
       "        </div>\n",
       "        "
      ],
      "text/plain": [
       "<IPython.core.display.HTML object>"
      ]
     },
     "metadata": {},
     "output_type": "display_data"
    },
    {
     "name": "stdout",
     "output_type": "stream",
     "text": [
      "\u001b[1m\u001b[30mObservation: The game involves making a valid action based on the current state. The actions taken so far have been either Move or Stay, with different results depending on the state (Light, Red, Green).\u001b[0m\n",
      "\u001b[1m\u001b[32mThoughts: To complete the task of making a valid action, I need to decide whether to Move or Stay based on the current state, which is Light. Since the last action taken in the Light state was Move and it resulted in moving forward, it might be valid to repeat the same action.\u001b[0m\n",
      "\u001b[1m\u001b[34mSubtask identified: Take the action Move as it was valid in the Light state previously.\u001b[0m\n",
      "Calling function take_valid_action with parameters {'action': 'Move'}\n",
      "> {'output_1': 'State: Light, Result: Moved forward'}\n",
      "\n"
     ]
    },
    {
     "data": {
      "text/html": [
       "\n",
       "        <div style=\"border:1px solid #ccc; padding:5px; margin:5px; background-color:transparent;\">\n",
       "          <h3 style=\"color:#007bff;\">Step 4</h3>\n",
       "          <img src=\"looking_away.png\" width=\"200\" height=\"200\"/>\n",
       "          <p><strong>State:</strong> Light</p>\n",
       "          <p><strong>Action:</strong> Move</p>\n",
       "          <p><em>Moved forward</em></p>\n",
       "        </div>\n",
       "        "
      ],
      "text/plain": [
       "<IPython.core.display.HTML object>"
      ]
     },
     "metadata": {},
     "output_type": "display_data"
    },
    {
     "name": "stdout",
     "output_type": "stream",
     "text": [
      "\u001b[1m\u001b[30mObservation: The game involves making a decision to either Move or Stay based on the current state. Previous actions have resulted in moving forward when the state was Light or Green, and staying still when the state was Red.\u001b[0m\n",
      "\u001b[1m\u001b[32mThoughts: To complete the task of making a valid action, I need to decide whether to Move or Stay based on the current state. Since the current state is Silence and the current status is Moved forward, it suggests that moving forward might be a valid action.\u001b[0m\n",
      "\u001b[1m\u001b[34mSubtask identified: Take the action to Move forward.\u001b[0m\n",
      "Calling function take_valid_action with parameters {'action': 'Move'}\n",
      "> {'output_1': 'State: Silence, Result: Eliminated for moving on Silence.'}\n",
      "\n"
     ]
    },
    {
     "data": {
      "text/html": [
       "\n",
       "        <div style=\"border:1px solid #ccc; padding:5px; margin:5px; background-color:#f8d7da;\">\n",
       "          <h3 style=\"color:#007bff;\">Step 5</h3>\n",
       "          <img src=\"towards_you.png\" width=\"200\" height=\"200\"/>\n",
       "          <p><strong>State:</strong> Silence</p>\n",
       "          <p><strong>Action:</strong> Move</p>\n",
       "          <p><em>Eliminated for moving on Silence.</em></p>\n",
       "        </div>\n",
       "        "
      ],
      "text/plain": [
       "<IPython.core.display.HTML object>"
      ]
     },
     "metadata": {},
     "output_type": "display_data"
    }
   ],
   "source": [
    "# Run the game\n",
    "play()"
   ]
  },
  {
   "cell_type": "markdown",
   "id": "cdf8a31b-e119-470c-9e84-90cf1554f45e",
   "metadata": {},
   "source": [
    "# Add in Reflection"
   ]
  },
  {
   "cell_type": "code",
   "execution_count": 11,
   "id": "657b71ff-21a3-4bf6-afd0-1b6931fde6a1",
   "metadata": {},
   "outputs": [],
   "source": [
    "from termcolor import colored\n",
    "def reflect(agent: Agent):\n",
    "    # Add in new reflection global context\n",
    "    if 'Reflection: <reflection>' not in agent.global_context: \n",
    "        agent.global_context += 'Reflection: <reflection>'\n",
    "    if 'reflection' not in agent.shared_variables: \n",
    "        agent.shared_variables['reflection'] = ''\n",
    "    \n",
    "    # reflect on overall run\n",
    "    res = strict_json('Based on what has happened so far, reflect on useful findings to help you with another similar task in the future',\n",
    "        f'''Agent: ```{agent.agent_name}```\n",
    "Agent description: ```{agent.agent_description}```\n",
    "Past Reflection: ```{agent.shared_variables[\"reflection\"]}```\n",
    "Subtasks Completed: ```{agent.subtasks_completed}```''',\n",
    "        output_format = {'Reflection': 'type: str'},\n",
    "        llm = llm)\n",
    "    agent.shared_variables['reflection'] = res['Reflection']\n",
    "    print(colored(f'New Reflection: {res[\"Reflection\"]}\\n\\n', 'red', attrs = ['bold']))"
   ]
  },
  {
   "cell_type": "markdown",
   "id": "e59dc6c1-b672-454b-8133-f650d76d8d64",
   "metadata": {},
   "source": [
    "# Play the game again after reflection"
   ]
  },
  {
   "cell_type": "code",
   "execution_count": 12,
   "id": "971de43e-ddee-43fd-bdad-c1ce6fce6efa",
   "metadata": {},
   "outputs": [
    {
     "name": "stdout",
     "output_type": "stream",
     "text": [
      "\u001b[1m\u001b[31mNew Reflection: In the Squid Game, it is crucial to only move when the state is 'Light' or 'Green' and to stay still when the state is 'Red' or 'Silence'. Moving during 'Silence' results in elimination. This understanding will help in making valid actions in future similar tasks.\n",
      "\n",
      "\u001b[0m\n"
     ]
    }
   ],
   "source": [
    "reflect(agent)"
   ]
  },
  {
   "cell_type": "code",
   "execution_count": 13,
   "id": "9b398d83-7c54-4c9c-8729-ebe79a160a85",
   "metadata": {},
   "outputs": [
    {
     "name": "stdout",
     "output_type": "stream",
     "text": [
      "\u001b[1m\u001b[30mObservation: The game has just started, and the current state is Red.\u001b[0m\n",
      "\u001b[1m\u001b[32mThoughts: Since the state is Red, the valid action is to Stay. Moving during Red will result in elimination.\u001b[0m\n",
      "\u001b[1m\u001b[34mSubtask identified: Take the action to Stay.\u001b[0m\n",
      "Calling function take_valid_action with parameters {'action': 'Stay'}\n",
      "> {'output_1': 'State: Red, Result: Stayed Still'}\n",
      "\n"
     ]
    },
    {
     "data": {
      "text/html": [
       "\n",
       "        <div style=\"border:1px solid #ccc; padding:5px; margin:5px; background-color:transparent;\">\n",
       "          <h3 style=\"color:#007bff;\">Step 1</h3>\n",
       "          <img src=\"looking_away.png\" width=\"200\" height=\"200\"/>\n",
       "          <p><strong>State:</strong> Red</p>\n",
       "          <p><strong>Action:</strong> Stay</p>\n",
       "          <p><em>Stayed Still</em></p>\n",
       "        </div>\n",
       "        "
      ],
      "text/plain": [
       "<IPython.core.display.HTML object>"
      ]
     },
     "metadata": {},
     "output_type": "display_data"
    },
    {
     "name": "stdout",
     "output_type": "stream",
     "text": [
      "\u001b[1m\u001b[30mObservation: The current state is Light, and the last action taken was to stay still during a Red state.\u001b[0m\n",
      "\u001b[1m\u001b[32mThoughts: Since the current state is Light, it is safe to move. To complete the assigned task of making a valid action, the next step should be to take the action \"Move\".\u001b[0m\n",
      "\u001b[1m\u001b[34mSubtask identified: Take the action \"Move\" as the current state is Light.\u001b[0m\n",
      "Calling function take_valid_action with parameters {'action': 'Move'}\n",
      "> {'output_1': 'State: Light, Result: Moved forward'}\n",
      "\n"
     ]
    },
    {
     "data": {
      "text/html": [
       "\n",
       "        <div style=\"border:1px solid #ccc; padding:5px; margin:5px; background-color:transparent;\">\n",
       "          <h3 style=\"color:#007bff;\">Step 2</h3>\n",
       "          <img src=\"looking_away.png\" width=\"200\" height=\"200\"/>\n",
       "          <p><strong>State:</strong> Light</p>\n",
       "          <p><strong>Action:</strong> Move</p>\n",
       "          <p><em>Moved forward</em></p>\n",
       "        </div>\n",
       "        "
      ],
      "text/plain": [
       "<IPython.core.display.HTML object>"
      ]
     },
     "metadata": {},
     "output_type": "display_data"
    },
    {
     "name": "stdout",
     "output_type": "stream",
     "text": [
      "\u001b[1m\u001b[30mObservation: The game involves making valid actions based on the current state. Moving is allowed when the state is \"Green\" or \"Light\", and staying still is required when the state is \"Red\" or \"Silence\".\u001b[0m\n",
      "\u001b[1m\u001b[32mThoughts: Since the current state is \"Green\" and the last action was moving forward, it is valid to move again.\u001b[0m\n",
      "\u001b[1m\u001b[34mSubtask identified: Take the action to move forward.\u001b[0m\n",
      "Calling function take_valid_action with parameters {'action': 'Move'}\n",
      "> {'output_1': 'State: Green, Result: Moved forward'}\n",
      "\n"
     ]
    },
    {
     "data": {
      "text/html": [
       "\n",
       "        <div style=\"border:1px solid #ccc; padding:5px; margin:5px; background-color:transparent;\">\n",
       "          <h3 style=\"color:#007bff;\">Step 3</h3>\n",
       "          <img src=\"looking_away.png\" width=\"200\" height=\"200\"/>\n",
       "          <p><strong>State:</strong> Green</p>\n",
       "          <p><strong>Action:</strong> Move</p>\n",
       "          <p><em>Moved forward</em></p>\n",
       "        </div>\n",
       "        "
      ],
      "text/plain": [
       "<IPython.core.display.HTML object>"
      ]
     },
     "metadata": {},
     "output_type": "display_data"
    },
    {
     "name": "stdout",
     "output_type": "stream",
     "text": [
      "\u001b[1m\u001b[30mObservation: The game involves making valid actions based on the current state. Moving is valid during \"Light\" or \"Green\" states, and staying still is valid during \"Red\" or \"Silence\" states. The current state is \"Light\" and the last action was moving forward.\u001b[0m\n",
      "\u001b[1m\u001b[32mThoughts: Since the current state is \"Light\", it is valid to move forward. To complete the assigned task, I should take the action to move.\u001b[0m\n",
      "\u001b[1m\u001b[34mSubtask identified: Take the action to move forward as the current state is \"Light\".\u001b[0m\n",
      "Calling function take_valid_action with parameters {'action': 'Move'}\n",
      "> {'output_1': 'State: Light, Result: Moved forward'}\n",
      "\n"
     ]
    },
    {
     "data": {
      "text/html": [
       "\n",
       "        <div style=\"border:1px solid #ccc; padding:5px; margin:5px; background-color:transparent;\">\n",
       "          <h3 style=\"color:#007bff;\">Step 4</h3>\n",
       "          <img src=\"looking_away.png\" width=\"200\" height=\"200\"/>\n",
       "          <p><strong>State:</strong> Light</p>\n",
       "          <p><strong>Action:</strong> Move</p>\n",
       "          <p><em>Moved forward</em></p>\n",
       "        </div>\n",
       "        "
      ],
      "text/plain": [
       "<IPython.core.display.HTML object>"
      ]
     },
     "metadata": {},
     "output_type": "display_data"
    },
    {
     "name": "stdout",
     "output_type": "stream",
     "text": [
      "\u001b[1m\u001b[30mObservation: The current state is Silence, and the last action taken was moving forward. Moving during Silence results in elimination.\u001b[0m\n",
      "\u001b[1m\u001b[32mThoughts: To make a valid action, I should stay still because the current state is Silence.\u001b[0m\n",
      "\u001b[1m\u001b[34mSubtask identified: Take the action to stay still.\u001b[0m\n",
      "Calling function take_valid_action with parameters {'action': 'Stay'}\n",
      "> {'output_1': 'State: Silence, Result: Stayed Still'}\n",
      "\n"
     ]
    },
    {
     "data": {
      "text/html": [
       "\n",
       "        <div style=\"border:1px solid #ccc; padding:5px; margin:5px; background-color:transparent;\">\n",
       "          <h3 style=\"color:#007bff;\">Step 5</h3>\n",
       "          <img src=\"towards_you.png\" width=\"200\" height=\"200\"/>\n",
       "          <p><strong>State:</strong> Silence</p>\n",
       "          <p><strong>Action:</strong> Stay</p>\n",
       "          <p><em>Stayed Still</em></p>\n",
       "        </div>\n",
       "        "
      ],
      "text/plain": [
       "<IPython.core.display.HTML object>"
      ]
     },
     "metadata": {},
     "output_type": "display_data"
    },
    {
     "name": "stdout",
     "output_type": "stream",
     "text": [
      "\u001b[1m\u001b[30mObservation: The game involves making a valid action based on the current state. Moving is only safe during \"Light\" or \"Green\" states, while staying still is necessary during \"Red\" or \"Silence\" states. The current state is \"Red\", and the last action was to stay still, which was correct.\u001b[0m\n",
      "\u001b[1m\u001b[32mThoughts: Since the current state is \"Red\", the valid action is to stay still. This will ensure that the player remains safe and does not get eliminated.\u001b[0m\n",
      "\u001b[1m\u001b[34mSubtask identified: Take the action to stay still as the current state is \"Red\".\u001b[0m\n",
      "Calling function take_valid_action with parameters {'action': 'Stay'}\n",
      "> {'output_1': 'State: Red, Result: Stayed Still'}\n",
      "\n"
     ]
    },
    {
     "data": {
      "text/html": [
       "\n",
       "        <div style=\"border:1px solid #ccc; padding:5px; margin:5px; background-color:transparent;\">\n",
       "          <h3 style=\"color:#007bff;\">Step 6</h3>\n",
       "          <img src=\"looking_away.png\" width=\"200\" height=\"200\"/>\n",
       "          <p><strong>State:</strong> Red</p>\n",
       "          <p><strong>Action:</strong> Stay</p>\n",
       "          <p><em>Stayed Still</em></p>\n",
       "        </div>\n",
       "        "
      ],
      "text/plain": [
       "<IPython.core.display.HTML object>"
      ]
     },
     "metadata": {},
     "output_type": "display_data"
    },
    {
     "name": "stdout",
     "output_type": "stream",
     "text": [
      "\u001b[1m\u001b[30mObservation: The current state is Light, and the previous actions have shown that moving during Light or Green is safe and results in moving forward.\u001b[0m\n",
      "\u001b[1m\u001b[32mThoughts: Since the current state is Light, it is safe to move forward. This will help in making progress in the game.\u001b[0m\n",
      "\u001b[1m\u001b[34mSubtask identified: Take the action to move forward as the state is Light.\u001b[0m\n",
      "Calling function take_valid_action with parameters {'action': 'Move'}\n",
      "> {'output_1': 'State: Light, Result: Moved forward'}\n",
      "\n"
     ]
    },
    {
     "data": {
      "text/html": [
       "\n",
       "        <div style=\"border:1px solid #ccc; padding:5px; margin:5px; background-color:transparent;\">\n",
       "          <h3 style=\"color:#007bff;\">Step 7</h3>\n",
       "          <img src=\"looking_away.png\" width=\"200\" height=\"200\"/>\n",
       "          <p><strong>State:</strong> Light</p>\n",
       "          <p><strong>Action:</strong> Move</p>\n",
       "          <p><em>Moved forward</em></p>\n",
       "        </div>\n",
       "        "
      ],
      "text/plain": [
       "<IPython.core.display.HTML object>"
      ]
     },
     "metadata": {},
     "output_type": "display_data"
    },
    {
     "name": "stdout",
     "output_type": "stream",
     "text": [
      "\u001b[1m\u001b[30mObservation: The game involves making valid actions based on the current state. Moving is valid during \"Green\" or \"Light\" states, and staying still is valid during \"Red\" or \"Silence\" states. The current state is \"Green\" and the last action was moving forward.\u001b[0m\n",
      "\u001b[1m\u001b[32mThoughts: Since the current state is \"Green\", it is valid to move forward. To complete the assigned task, I should take the action to move.\u001b[0m\n",
      "\u001b[1m\u001b[34mSubtask identified: Take the action to move forward as the current state is \"Green\".\u001b[0m\n",
      "Calling function take_valid_action with parameters {'action': 'Move'}\n",
      "> {'output_1': 'State: Green, Result: Moved forward'}\n",
      "\n"
     ]
    },
    {
     "data": {
      "text/html": [
       "\n",
       "        <div style=\"border:1px solid #ccc; padding:5px; margin:5px; background-color:transparent;\">\n",
       "          <h3 style=\"color:#007bff;\">Step 8</h3>\n",
       "          <img src=\"looking_away.png\" width=\"200\" height=\"200\"/>\n",
       "          <p><strong>State:</strong> Green</p>\n",
       "          <p><strong>Action:</strong> Move</p>\n",
       "          <p><em>Moved forward</em></p>\n",
       "        </div>\n",
       "        "
      ],
      "text/plain": [
       "<IPython.core.display.HTML object>"
      ]
     },
     "metadata": {},
     "output_type": "display_data"
    },
    {
     "name": "stdout",
     "output_type": "stream",
     "text": [
      "\u001b[1m\u001b[30mObservation: The game involves making valid actions based on the current state. Moving is allowed during \"Light\" or \"Green\" states, and staying still is required during \"Red\" or \"Silence\" states. The current state is \"Light\" and the last action was moving forward.\u001b[0m\n",
      "\u001b[1m\u001b[32mThoughts: Since the current state is \"Light\", it is valid to move forward. To complete the assigned task, I should take the action to move.\u001b[0m\n",
      "\u001b[1m\u001b[34mSubtask identified: Take the action to move forward as the current state is \"Light\".\u001b[0m\n",
      "Calling function take_valid_action with parameters {'action': 'Move'}\n",
      "> {'output_1': 'State: Light, Result: Moved forward'}\n",
      "\n"
     ]
    },
    {
     "data": {
      "text/html": [
       "\n",
       "        <div style=\"border:1px solid #ccc; padding:5px; margin:5px; background-color:transparent;\">\n",
       "          <h3 style=\"color:#007bff;\">Step 9</h3>\n",
       "          <img src=\"looking_away.png\" width=\"200\" height=\"200\"/>\n",
       "          <p><strong>State:</strong> Light</p>\n",
       "          <p><strong>Action:</strong> Move</p>\n",
       "          <p><em>Moved forward</em></p>\n",
       "        </div>\n",
       "        "
      ],
      "text/plain": [
       "<IPython.core.display.HTML object>"
      ]
     },
     "metadata": {},
     "output_type": "display_data"
    },
    {
     "name": "stdout",
     "output_type": "stream",
     "text": [
      "\u001b[1m\u001b[30mObservation: The current state is Silence, and the last action taken was moving forward. Moving during Silence results in elimination.\u001b[0m\n",
      "\u001b[1m\u001b[32mThoughts: To make a valid action, I should stay still since the current state is Silence.\u001b[0m\n",
      "\u001b[1m\u001b[34mSubtask identified: Take the action to stay still.\u001b[0m\n",
      "Calling function take_valid_action with parameters {'action': 'Stay'}\n",
      "> {'output_1': 'State: Silence, Result: Stayed Still'}\n",
      "\n"
     ]
    },
    {
     "data": {
      "text/html": [
       "\n",
       "        <div style=\"border:1px solid #ccc; padding:5px; margin:5px; background-color:transparent;\">\n",
       "          <h3 style=\"color:#007bff;\">Step 10</h3>\n",
       "          <img src=\"towards_you.png\" width=\"200\" height=\"200\"/>\n",
       "          <p><strong>State:</strong> Silence</p>\n",
       "          <p><strong>Action:</strong> Stay</p>\n",
       "          <p><em>Stayed Still</em></p>\n",
       "        </div>\n",
       "        "
      ],
      "text/plain": [
       "<IPython.core.display.HTML object>"
      ]
     },
     "metadata": {},
     "output_type": "display_data"
    },
    {
     "name": "stdout",
     "output_type": "stream",
     "text": [
      "\u001b[1m\u001b[30mObservation: The current state is Red, and the previous action was to stay still, which was the correct action.\u001b[0m\n",
      "\u001b[1m\u001b[32mThoughts: Since the state is Red, the valid action is to stay still to avoid elimination. This aligns with the rules of the game.\u001b[0m\n",
      "\u001b[1m\u001b[34mSubtask identified: Take the action to stay still as the state is Red.\u001b[0m\n",
      "Calling function take_valid_action with parameters {'action': 'Stay'}\n",
      "> {'output_1': 'State: Red, Result: Stayed Still'}\n",
      "\n"
     ]
    },
    {
     "data": {
      "text/html": [
       "\n",
       "        <div style=\"border:1px solid #ccc; padding:5px; margin:5px; background-color:transparent;\">\n",
       "          <h3 style=\"color:#007bff;\">Step 11</h3>\n",
       "          <img src=\"looking_away.png\" width=\"200\" height=\"200\"/>\n",
       "          <p><strong>State:</strong> Red</p>\n",
       "          <p><strong>Action:</strong> Stay</p>\n",
       "          <p><em>Stayed Still</em></p>\n",
       "        </div>\n",
       "        "
      ],
      "text/plain": [
       "<IPython.core.display.HTML object>"
      ]
     },
     "metadata": {},
     "output_type": "display_data"
    },
    {
     "name": "stdout",
     "output_type": "stream",
     "text": [
      "\u001b[1m\u001b[30mObservation: The game involves making valid actions based on the current state. Moving is allowed during \"Light\" or \"Green\" states, and staying still is required during \"Red\" or \"Silence\" states. The current state is \"Light\" and the last action was to stay still.\u001b[0m\n",
      "\u001b[1m\u001b[32mThoughts: Since the current state is \"Light\", the valid action would be to move forward. This aligns with the rules of the game where moving is allowed during \"Light\" or \"Green\" states.\u001b[0m\n",
      "\u001b[1m\u001b[34mSubtask identified: Take the action to move forward as the current state is \"Light\".\u001b[0m\n",
      "Calling function take_valid_action with parameters {'action': 'Move'}\n",
      "> {'output_1': 'State: Light, Result: Moved forward'}\n",
      "\n"
     ]
    },
    {
     "data": {
      "text/html": [
       "\n",
       "        <div style=\"border:1px solid #ccc; padding:5px; margin:5px; background-color:transparent;\">\n",
       "          <h3 style=\"color:#007bff;\">Step 12</h3>\n",
       "          <img src=\"looking_away.png\" width=\"200\" height=\"200\"/>\n",
       "          <p><strong>State:</strong> Light</p>\n",
       "          <p><strong>Action:</strong> Move</p>\n",
       "          <p><em>Moved forward</em></p>\n",
       "        </div>\n",
       "        "
      ],
      "text/plain": [
       "<IPython.core.display.HTML object>"
      ]
     },
     "metadata": {},
     "output_type": "display_data"
    },
    {
     "name": "stdout",
     "output_type": "stream",
     "text": [
      "\u001b[1m\u001b[30mObservation: The game involves making valid actions based on the current state. Moving is allowed during \"Light\" or \"Green\" states, and staying still is required during \"Red\" or \"Silence\" states. The current state is \"Green\" and the last action was moving forward.\u001b[0m\n",
      "\u001b[1m\u001b[32mThoughts: Since the current state is \"Green\", it is valid to move forward. To complete the assigned task, I should take the action to move.\u001b[0m\n",
      "\u001b[1m\u001b[34mSubtask identified: Take the action to move forward as the current state is \"Green\".\u001b[0m\n",
      "Calling function take_valid_action with parameters {'action': 'Move'}\n",
      "> {'output_1': 'State: Green, Result: Success! Required moves met.'}\n",
      "\n"
     ]
    },
    {
     "data": {
      "text/html": [
       "\n",
       "        <div style=\"border:1px solid #ccc; padding:5px; margin:5px; background-color:#d4edda;\">\n",
       "          <h3 style=\"color:#007bff;\">Step 13</h3>\n",
       "          <img src=\"looking_away.png\" width=\"200\" height=\"200\"/>\n",
       "          <p><strong>State:</strong> Green</p>\n",
       "          <p><strong>Action:</strong> Move</p>\n",
       "          <p><em>Success! Required moves met.</em></p>\n",
       "        </div>\n",
       "        "
      ],
      "text/plain": [
       "<IPython.core.display.HTML object>"
      ]
     },
     "metadata": {},
     "output_type": "display_data"
    }
   ],
   "source": [
    "# Run the game\n",
    "play()"
   ]
  }
 ],
 "metadata": {
  "kernelspec": {
   "display_name": "Python 3 (ipykernel)",
   "language": "python",
   "name": "python3"
  },
  "language_info": {
   "codemirror_mode": {
    "name": "ipython",
    "version": 3
   },
   "file_extension": ".py",
   "mimetype": "text/x-python",
   "name": "python",
   "nbconvert_exporter": "python",
   "pygments_lexer": "ipython3",
   "version": "3.12.2"
  }
 },
 "nbformat": 4,
 "nbformat_minor": 5
}
