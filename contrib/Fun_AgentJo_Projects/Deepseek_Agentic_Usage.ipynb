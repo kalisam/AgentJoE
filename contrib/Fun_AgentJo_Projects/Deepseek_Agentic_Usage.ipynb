{
 "cells": [
  {
   "cell_type": "code",
   "execution_count": 1,
   "id": "de5f78f7-e558-45c1-a24e-d8b98f721f5d",
   "metadata": {},
   "outputs": [],
   "source": [
    "# you can put in your OS variables in a .env file as \"export VAR_NAME = value\"\n",
    "# then load it using dotenv\n",
    "from dotenv import load_dotenv\n",
    "load_dotenv()\n",
    "import os"
   ]
  },
  {
   "cell_type": "code",
   "execution_count": 2,
   "id": "184fa1ef-6e81-41fc-b1bd-c059c18ac6de",
   "metadata": {},
   "outputs": [],
   "source": [
    "def llm(system_prompt: str, user_prompt: str) -> str:\n",
    "    ''' Here, we use OpenAI for illustration, you can change it to your own LLM '''\n",
    "    # ensure your LLM imports are all within this function\n",
    "    from openai import OpenAI\n",
    "    \n",
    "    # define your own LLM here\n",
    "    client = OpenAI(api_key = os.environ[\"DEEPSEEK_API_KEY\"], base_url = \"https://api.deepseek.com\")\n",
    "    response = client.chat.completions.create(\n",
    "        model='deepseek-chat',\n",
    "        temperature = 0,\n",
    "        messages=[\n",
    "            {\"role\": \"system\", \"content\": system_prompt},\n",
    "            {\"role\": \"user\", \"content\": user_prompt}\n",
    "        ]\n",
    "    )\n",
    "    return response.choices[0].message.content"
   ]
  },
  {
   "cell_type": "code",
   "execution_count": 3,
   "id": "aa8c8d84-bb4b-421a-9768-4390d865992b",
   "metadata": {},
   "outputs": [],
   "source": [
    "from agentjo import *"
   ]
  },
  {
   "cell_type": "code",
   "execution_count": 4,
   "id": "0c82fedc-c058-4300-9065-79b7dd044ada",
   "metadata": {},
   "outputs": [
    {
     "name": "stdout",
     "output_type": "stream",
     "text": [
      "{'Main Category': 'Technology', 'Sub-categories': ['Artificial Intelligence', 'Machine Learning', 'Data Science']}\n"
     ]
    }
   ],
   "source": [
    "res = strict_json(system_prompt = \"Generate 1 main category and 3 sub-categories for topic\",\n",
    "                  user_prompt = \"DeepSeek\",\n",
    "                  output_format = {\"Main Category\": \"Suitable for 12 year olds, type: str\",\n",
    "                                   \"Sub-categories\": \"type: list\"},\n",
    "                  llm = llm)\n",
    "\n",
    "print(res)"
   ]
  },
  {
   "cell_type": "code",
   "execution_count": 5,
   "id": "91807544-54ce-48bc-a9f4-822725144b44",
   "metadata": {},
   "outputs": [
    {
     "name": "stdout",
     "output_type": "stream",
     "text": [
      "\u001b[1m\u001b[30mObservation: No subtasks have been completed yet. The task requires making two appointments: one with Paul at 3pm and another with Sally at 4pm, each for 1 hour.\u001b[0m\n",
      "\u001b[1m\u001b[32mThoughts: To complete the task, I need to make two separate appointments. I will start by making the first appointment with Paul at 3pm for 1 hour. Once that is done, I will proceed to make the second appointment with Sally at 4pm for 1 hour.\u001b[0m\n",
      "\u001b[1m\u001b[34mSubtask identified: Make an appointment with Paul from 1500H to 1600H.\u001b[0m\n",
      "Calling function make_appointment with parameters {'person_name': 'Paul', 'start_time': '1500H', 'end_time': '1600H'}\n",
      "> {'output_1': 'Appointment made with Paul from 1500H to 1600H'}\n",
      "\n",
      "\u001b[1m\u001b[30mObservation: An appointment with Paul has been successfully made from 1500H to 1600H.\u001b[0m\n",
      "\u001b[1m\u001b[32mThoughts: The next step is to make an appointment with Sally at 4pm for 1 hour, which would be from 1600H to 1700H.\u001b[0m\n",
      "\u001b[1m\u001b[34mSubtask identified: Make an appointment with Sally from 1600H to 1700H.\u001b[0m\n",
      "Calling function make_appointment with parameters {'person_name': 'Sally', 'start_time': '1600H', 'end_time': '1700H'}\n",
      "> {'output_1': 'Appointment made with Sally from 1600H to 1700H'}\n",
      "\n",
      "\u001b[1m\u001b[30mObservation: Appointments have been successfully made with Paul from 1500H to 1600H and with Sally from 1600H to 1700H.\u001b[0m\n",
      "\u001b[1m\u001b[32mThoughts: The assigned task of making appointments with Paul and Sally has been fully completed. No further actions are required.\u001b[0m\n",
      "\u001b[1m\u001b[34mSubtask identified: End Task\u001b[0m\n",
      "Task completed successfully!\n",
      "\n"
     ]
    }
   ],
   "source": [
    "# Define a function for appointment\n",
    "def make_appointment(person_name: str, start_time: str, end_time: str):\n",
    "    '''Makes an appointment with person_name from start_time to end_time. Time is in xxxxH'''\n",
    "    return f\"Appointment made with {person_name} from {start_time} to {end_time}\"\n",
    "\n",
    "# Create the Agent\n",
    "agent = Agent(\n",
    "    agent_name = \"Personal Secretary\",\n",
    "    agent_description = \"You are a friendly assistant.\",\n",
    "    llm = llm,\n",
    ").assign_functions([make_appointment])\n",
    "\n",
    "result = agent.run(\"Make me an appointment with Paul at 3pm, Sally at 4pm. 1 hour each\")"
   ]
  }
 ],
 "metadata": {
  "kernelspec": {
   "display_name": "Python 3 (ipykernel)",
   "language": "python",
   "name": "python3"
  },
  "language_info": {
   "codemirror_mode": {
    "name": "ipython",
    "version": 3
   },
   "file_extension": ".py",
   "mimetype": "text/x-python",
   "name": "python",
   "nbconvert_exporter": "python",
   "pygments_lexer": "ipython3",
   "version": "3.12.2"
  }
 },
 "nbformat": 4,
 "nbformat_minor": 5
}
