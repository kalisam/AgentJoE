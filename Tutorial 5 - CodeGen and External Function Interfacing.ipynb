{
 "cells": [
  {
   "cell_type": "markdown",
   "id": "2fa1e388-b8f4-4fa3-be5a-ba7c6caae038",
   "metadata": {
    "tags": []
   },
   "source": [
    "# Tutorial 5 - CodeGen and External Function Interfacing\n",
    "- Video: https://www.youtube.com/watch?v=nXA2EbJS8fI\n",
    "\n",
    "- There are many other existing Agentic Frameworks like LangChain / LangGraph, LlamaIndex that have many pre-established tools\n",
    "- AgentJo provides an easy way to interface with them and input them directly into AgentJo Agents!\n",
    "- We also show how to implement the Code as Actions agent (Executable Code Actions Elicit Better LLM Agents (Wang et al, 2024)\n",
    "- https://arxiv.org/abs/2402.01030"
   ]
  },
  {
   "cell_type": "markdown",
   "id": "c10e6c1c",
   "metadata": {},
   "source": [
    "# Setup Guide"
   ]
  },
  {
   "cell_type": "markdown",
   "id": "b5e5bbc8",
   "metadata": {},
   "source": [
    "## Step 1: Install AgentJo"
   ]
  },
  {
   "cell_type": "code",
   "execution_count": 1,
   "id": "4c8bf27a",
   "metadata": {},
   "outputs": [],
   "source": [
    "# !pip install agentjo"
   ]
  },
  {
   "cell_type": "markdown",
   "id": "30692912",
   "metadata": {},
   "source": [
    "## Step 2: Import required functions and setup relevant API keys for your LLM"
   ]
  },
  {
   "cell_type": "code",
   "execution_count": 2,
   "id": "8d0bb6a3",
   "metadata": {},
   "outputs": [
    {
     "data": {
      "text/plain": [
       "True"
      ]
     },
     "execution_count": 2,
     "metadata": {},
     "output_type": "execute_result"
    }
   ],
   "source": [
    "# Set up API key and do the necessary imports\n",
    "from agentjo import *\n",
    "import os\n",
    "\n",
    "from dotenv import load_dotenv\n",
    "load_dotenv()"
   ]
  },
  {
   "cell_type": "markdown",
   "id": "94b1c565",
   "metadata": {},
   "source": [
    "## Step 3: Define your own LLM\n",
    "- Take in a `system_prompt`, `user_prompt`, and outputs llm response string"
   ]
  },
  {
   "cell_type": "code",
   "execution_count": 3,
   "id": "3d2ded60",
   "metadata": {},
   "outputs": [],
   "source": [
    "def llm(system_prompt: str, user_prompt: str) -> str:\n",
    "    ''' Here, we use OpenAI for illustration, you can change it to your own LLM '''\n",
    "    # ensure your LLM imports are all within this function\n",
    "    from openai import OpenAI\n",
    "    \n",
    "    # define your own LLM here\n",
    "    client = OpenAI()\n",
    "    response = client.chat.completions.create(\n",
    "        model='gpt-4o-mini',\n",
    "        temperature = 0,\n",
    "        messages=[\n",
    "            {\"role\": \"system\", \"content\": system_prompt},\n",
    "            {\"role\": \"user\", \"content\": user_prompt}\n",
    "        ]\n",
    "    )\n",
    "    return response.choices[0].message.content"
   ]
  },
  {
   "cell_type": "code",
   "execution_count": 4,
   "id": "c3505bdd",
   "metadata": {},
   "outputs": [
    {
     "data": {
      "text/plain": [
       "'Neutral'"
      ]
     },
     "execution_count": 4,
     "metadata": {},
     "output_type": "execute_result"
    }
   ],
   "source": [
    "# Verify that llm function is working\n",
    "llm(system_prompt = 'You are a classifier to classify the sentiment of a sentence', \n",
    "    user_prompt = 'It is a hot and sunny day')"
   ]
  },
  {
   "cell_type": "markdown",
   "id": "2a0c8158-7cd7-4bdd-8402-40e55bb55566",
   "metadata": {},
   "source": [
    "# LangChain Structured Tools Interface with AgentJo\n",
    "- If User defines a function in LangChain, simply just add <fn_name>.func to AgentJo Agent"
   ]
  },
  {
   "cell_type": "code",
   "execution_count": 5,
   "id": "a529f507-3a54-497d-9c0c-3e5e1c12a308",
   "metadata": {
    "tags": []
   },
   "outputs": [],
   "source": [
    "from langchain_core.tools import tool\n",
    "\n",
    "@tool\n",
    "def add(num1: int, num2: int) -> int:\n",
    "    \"\"\"Adds num1 and num2.\"\"\"\n",
    "    return num1 + num2\n",
    "\n",
    "\n",
    "@tool\n",
    "def multiply(num1: int, num2: int) -> int:\n",
    "    \"\"\"Multiplies num1 and num2.\"\"\"\n",
    "    return num1 * num2\n",
    "\n",
    "\n",
    "tools = [add, multiply]"
   ]
  },
  {
   "cell_type": "code",
   "execution_count": 6,
   "id": "4e0f6992-0fb3-4124-82e2-41f8a299dabb",
   "metadata": {
    "tags": []
   },
   "outputs": [],
   "source": [
    "from agentjo import Agent\n",
    "agent = Agent('Math Whiz', 'Does calculations',\n",
    "             llm = llm).assign_functions([add.func, multiply.func])"
   ]
  },
  {
   "cell_type": "code",
   "execution_count": 7,
   "id": "5e011a86-35f6-4922-803b-184f86c6a331",
   "metadata": {
    "tags": []
   },
   "outputs": [
    {
     "data": {
      "text/plain": [
       "[\"Name: use_llm\\nDescription: For general tasks. Used only when no other function can do the task\\nInput: []\\nOutput: {'Output': 'Output of LLM'}\\n\",\n",
       " 'Name: end_task\\nDescription: Passes the final output to the user\\nInput: []\\nOutput: {}\\n',\n",
       " \"Name: add\\nDescription: Adds <num1: int> and <num2: int>.\\nInput: ['num1', 'num2']\\nOutput: {'output_1': 'int'}\\n\",\n",
       " \"Name: multiply\\nDescription: Multiplies <num1: int> and <num2: int>.\\nInput: ['num1', 'num2']\\nOutput: {'output_1': 'int'}\\n\"]"
      ]
     },
     "execution_count": 7,
     "metadata": {},
     "output_type": "execute_result"
    }
   ],
   "source": [
    "agent.list_functions()"
   ]
  },
  {
   "cell_type": "code",
   "execution_count": 8,
   "id": "5506cd63-51c5-43e6-99b4-d4068579d7b3",
   "metadata": {
    "tags": []
   },
   "outputs": [
    {
     "name": "stdout",
     "output_type": "stream",
     "text": [
      "\u001b[1m\u001b[30mObservation: No subtasks have been completed yet for the assigned task of calculating 3*5 + 3.\u001b[0m\n",
      "\u001b[1m\u001b[32mThoughts: To complete the assigned task, I need to first perform the multiplication of 3 and 5, and then add 3 to the result.\u001b[0m\n",
      "\u001b[1m\u001b[34mSubtask identified: Multiply 3 and 5 to get the first part of the calculation.\u001b[0m\n",
      "Calling function multiply with parameters {'num1': 3, 'num2': 5}\n",
      "> {'output_1': 15}\n",
      "\n",
      "\u001b[1m\u001b[30mObservation: The multiplication of 3 and 5 has been completed, resulting in 15.\u001b[0m\n",
      "\u001b[1m\u001b[32mThoughts: Now, I need to add 3 to the result of the multiplication to complete the calculation for the assigned task.\u001b[0m\n",
      "\u001b[1m\u001b[34mSubtask identified: Add 15 and 3 to get the final result of the assigned task.\u001b[0m\n",
      "Calling function add with parameters {'num1': 15, 'num2': 3}\n",
      "> {'output_1': 18}\n",
      "\n",
      "\u001b[1m\u001b[30mObservation: The multiplication of 3 and 5 has been completed, resulting in 15. Additionally, the addition of 15 and 3 has been completed, yielding a final result of 18.\u001b[0m\n",
      "\u001b[1m\u001b[32mThoughts: Since the Assigned Task has been fully completed with the final result of 18, there is no further calculation needed.\u001b[0m\n",
      "\u001b[1m\u001b[34mSubtask identified: End Task\u001b[0m\n",
      "Task completed successfully!\n",
      "\n"
     ]
    },
    {
     "data": {
      "text/plain": [
       "[{'output_1': 15}, {'output_1': 18}]"
      ]
     },
     "execution_count": 8,
     "metadata": {},
     "output_type": "execute_result"
    }
   ],
   "source": [
    "agent.run('Calculate 3*5 + 3')"
   ]
  },
  {
   "cell_type": "markdown",
   "id": "d2cfcddc-b3cf-4d1c-8749-89827b901b06",
   "metadata": {},
   "source": [
    "# LangChain Community Tools Interface with AgentJo\n",
    "- See https://python.langchain.com/v0.2/docs/integrations/providers/ for full list\n",
    "- Wikipedia\n",
    "- Python REPL (not that great to run many things - have created my own in AgentJo)"
   ]
  },
  {
   "cell_type": "code",
   "execution_count": 9,
   "id": "72872030-d4dc-4bc6-8351-73f6fd8c214a",
   "metadata": {
    "tags": []
   },
   "outputs": [],
   "source": [
    "# !pip -q install wikipedia"
   ]
  },
  {
   "cell_type": "code",
   "execution_count": 10,
   "id": "0e866e88-8f0d-4aaf-a12e-ae7fb91dea3d",
   "metadata": {
    "tags": []
   },
   "outputs": [],
   "source": [
    "def wikipedia_tool(search_query: str) -> str:\n",
    "    ''' Uses search_query and returns text from wikipedia '''\n",
    "    from langchain.tools import WikipediaQueryRun\n",
    "    from langchain.utilities import WikipediaAPIWrapper\n",
    "\n",
    "    return WikipediaQueryRun(api_wrapper=WikipediaAPIWrapper()).run(search_query)"
   ]
  },
  {
   "cell_type": "code",
   "execution_count": 11,
   "id": "9e4cbb92-7e2e-483d-b372-7560c6bd1622",
   "metadata": {
    "tags": []
   },
   "outputs": [
    {
     "data": {
      "text/plain": [
       "'Page: Joe Biden\\nSummary: Joseph Robinette Biden Jr. (born November 20, 1942) is an American retired '"
      ]
     },
     "execution_count": 11,
     "metadata": {},
     "output_type": "execute_result"
    }
   ],
   "source": [
    "wikipedia_tool('Joe Biden')[:100]"
   ]
  },
  {
   "cell_type": "markdown",
   "id": "e9ccfac6-5614-4661-8cc2-28a931d6f625",
   "metadata": {
    "tags": []
   },
   "source": [
    "# LlamaIndex Function Interface with AgentJo\n",
    "- If User defines a function in LlamaIndex, simply just add <fn_name>.fn to AgentJo Agent\n",
    "- TODO: Add structure for other kinds of functions in LlamaIndex"
   ]
  },
  {
   "cell_type": "code",
   "execution_count": 12,
   "id": "bf5305ec-75ca-402d-b143-3ca9b189317e",
   "metadata": {},
   "outputs": [],
   "source": [
    "# !pip install llama-index"
   ]
  },
  {
   "cell_type": "code",
   "execution_count": 13,
   "id": "cd7cad1e-abe9-4f13-9478-ccabd02338e4",
   "metadata": {
    "tags": []
   },
   "outputs": [],
   "source": [
    "from llama_index.core.tools import FunctionTool\n",
    "\n",
    "def get_weather(location: str) -> str:\n",
    "    \"\"\"Useful for getting the weather for a given location\"\"\"\n",
    "    return 'Sunny'\n",
    "    ...\n",
    "\n",
    "tool = FunctionTool.from_defaults(\n",
    "    get_weather,\n",
    "    # async_fn=aget_weather,  # optional!\n",
    ")"
   ]
  },
  {
   "cell_type": "code",
   "execution_count": 14,
   "id": "a5dbfa06-9849-4864-b775-094bcf98e401",
   "metadata": {
    "tags": []
   },
   "outputs": [],
   "source": [
    "agent = Agent('Weather Agent', 'Returns the Weather',\n",
    "             llm = llm).assign_functions(tool.fn)"
   ]
  },
  {
   "cell_type": "code",
   "execution_count": 15,
   "id": "366387df-b36c-44a1-b45a-fa6cd2b58fa0",
   "metadata": {
    "tags": []
   },
   "outputs": [
    {
     "data": {
      "text/plain": [
       "[\"Name: use_llm\\nDescription: For general tasks. Used only when no other function can do the task\\nInput: []\\nOutput: {'Output': 'Output of LLM'}\\n\",\n",
       " 'Name: end_task\\nDescription: Passes the final output to the user\\nInput: []\\nOutput: {}\\n',\n",
       " \"Name: get_weather\\nDescription: Useful for getting the weather for a given <location: str>\\nInput: ['location']\\nOutput: {'output_1': 'str'}\\n\"]"
      ]
     },
     "execution_count": 15,
     "metadata": {},
     "output_type": "execute_result"
    }
   ],
   "source": [
    "agent.list_functions()"
   ]
  },
  {
   "cell_type": "code",
   "execution_count": 16,
   "id": "29544561-a87c-4190-ad87-9d9f4c3cb235",
   "metadata": {
    "tags": []
   },
   "outputs": [
    {
     "name": "stdout",
     "output_type": "stream",
     "text": [
      "\u001b[1m\u001b[30mObservation: No subtasks have been completed yet for the assigned task of finding the weather in Miami.\u001b[0m\n",
      "\u001b[1m\u001b[32mThoughts: To complete the assigned task, I need to use the get_weather function to retrieve the current weather for Miami.\u001b[0m\n",
      "\u001b[1m\u001b[34mSubtask identified: Use the get_weather function to obtain the weather information for Miami.\u001b[0m\n",
      "Calling function get_weather with parameters {'location': 'Miami'}\n",
      "> {'output_1': 'Sunny'}\n",
      "\n",
      "\u001b[1m\u001b[30mObservation: The weather in Miami has been successfully retrieved and is reported as Sunny.\u001b[0m\n",
      "\u001b[1m\u001b[32mThoughts: Since the weather information for Miami is already obtained, the next step is to provide this information to the user.\u001b[0m\n",
      "\u001b[1m\u001b[34mSubtask identified: End Task\u001b[0m\n",
      "Task completed successfully!\n",
      "\n"
     ]
    },
    {
     "data": {
      "text/plain": [
       "[{'output_1': 'Sunny'}]"
      ]
     },
     "execution_count": 16,
     "metadata": {},
     "output_type": "execute_result"
    }
   ],
   "source": [
    "agent.run('What is the weather in Miami?')"
   ]
  },
  {
   "cell_type": "markdown",
   "id": "15467ba9-48e8-4c23-943e-dbec1d7d3150",
   "metadata": {},
   "source": [
    "# AgentJo Custom Tools\n",
    "- Some initial tools AgentJo can provide are as follows:\n",
    "    - Code generator: `python_generator_tool`\n",
    "    - Code executor: `python_run_tool`\n",
    "    - Code debugger: `python_debug_tool`\n",
    "    - Code generator, executor and debugger combined: `python_generate_and_run_code_tool`"
   ]
  },
  {
   "cell_type": "code",
   "execution_count": 17,
   "id": "28d0978e-46e8-4d94-add8-63e694001bf0",
   "metadata": {
    "tags": []
   },
   "outputs": [],
   "source": [
    "shared_variables = {'agent': Agent('Generalist Agent', 'Does Everything', llm = llm).assign_functions([wikipedia_tool])}"
   ]
  },
  {
   "cell_type": "code",
   "execution_count": 63,
   "id": "b665c6a5-450b-43a3-a9b8-2167b1aff2b9",
   "metadata": {
    "tags": []
   },
   "outputs": [],
   "source": [
    "def python_generator_tool(shared_variables, instruction: str):\n",
    "    '''Generate code only based on instruction without any additional context.\n",
    "Ensure that you define all variables and list out all imports.\n",
    "You can only import the following modules: math, numpy, random, datetime, re, matplotlib, pandas, plotly\n",
    "Do not define any new functions\n",
    "You are able to use all Equipped Functions except use_llm and end_task\n",
    "The output of Equipped Function will be in a dictionary format\n",
    "Ensure all required output are in print()'''\n",
    "    \n",
    "    agent = shared_variables['agent']\n",
    "    \n",
    "    return strict_json(f'''Generate code based only on ```{instruction}``` without additional context.\n",
    "Ensure that you define all variables and list out all imports.\n",
    "You can only import the following modules: math, numpy, random, datetime, re, matplotlib, pandas, plotly\n",
    "Do not define any new functions\n",
    "You are able to use the following Equipped Functions: \n",
    "```{agent.list_functions(\n",
    "fn_list = [agent.function_map[function_name] for function_name in agent.function_map if function_name not in ['use_llm', 'end_task']])}\n",
    "```\n",
    "The output of Equipped Function will be in a dictionary format\n",
    "You must use Equipped Functions whenever possible\n",
    "Ensure all required output are in print()\n",
    "Use \"###Code###\" for json output field''',\n",
    "                       '',\n",
    "                                     output_format = {'Code': 'type: code'},\n",
    "                      llm = agent.llm)"
   ]
  },
  {
   "cell_type": "code",
   "execution_count": 64,
   "id": "e5513395-eb20-4b05-9582-2f313fa3900a",
   "metadata": {
    "tags": []
   },
   "outputs": [
    {
     "name": "stdout",
     "output_type": "stream",
     "text": [
      "Filtered Function Names: wikipedia_tool\n"
     ]
    },
    {
     "data": {
      "text/plain": [
       "{'Code': 'import math\\n\\n# Initialize variables\\nprimes = []\\nnum = 2\\n\\n# Calculate the first 3 prime numbers\\nwhile len(primes) < 3:\\n    is_prime = True\\n    for i in range(2, int(math.sqrt(num)) + 1):\\n        if num % i == 0:\\n            is_prime = False\\n            break\\n    if is_prime:\\n        primes.append(num)\\n    num += 1\\n\\n# Print the first 3 prime numbers\\nprint(primes)'}"
      ]
     },
     "execution_count": 64,
     "metadata": {},
     "output_type": "execute_result"
    }
   ],
   "source": [
    "python_generator_tool(shared_variables, 'What are the first 3 primes by calculation?')"
   ]
  },
  {
   "cell_type": "code",
   "execution_count": 65,
   "id": "ff8a319d-fbb7-4daa-aca4-452078746523",
   "metadata": {
    "tags": []
   },
   "outputs": [],
   "source": [
    "def python_run_tool(shared_variables, code_snippet: str) -> str:\n",
    "    '''Runs code_snippet and outputs the result of all print statements'''\n",
    "    import sys\n",
    "    import io\n",
    "    import math\n",
    "    import numpy\n",
    "    import random\n",
    "    import datetime\n",
    "    import re\n",
    "    import matplotlib\n",
    "    import pandas\n",
    "    import plotly\n",
    "    \n",
    "    agent = shared_variables['agent']\n",
    "    \n",
    "    # wrap external functions to pass in shared_variables as well\n",
    "    def external_function_wrapper(function_name, shared_variables):\n",
    "        def external_function(**function_params):\n",
    "            return agent.function_map[function_name](shared_variables=shared_variables, **function_params)\n",
    "        return external_function\n",
    "    \n",
    "    # Capture the output\n",
    "    old_stdout = sys.stdout\n",
    "    sys.stdout = io.StringIO()\n",
    "\n",
    "    try:\n",
    "        # Safe environment to execute the user code\n",
    "        allowed_globals = {\n",
    "            '__builtins__': {\n",
    "                'print': print,\n",
    "                'range': range,\n",
    "                'len': len,\n",
    "                'int': int,\n",
    "                'float': float,\n",
    "                'str': str,\n",
    "                'list': list,\n",
    "                'dict': dict,\n",
    "                'set': set,\n",
    "                'tuple': tuple,\n",
    "                'abs': abs,\n",
    "                'min': min,\n",
    "                'max': max,\n",
    "                'sum': sum,\n",
    "                'any': any,\n",
    "                'all': all,\n",
    "                'sorted': sorted,\n",
    "                'zip': zip,\n",
    "                'map': map,\n",
    "                'filter': filter,\n",
    "                '__import__': __import__,\n",
    "                'math': math,  # Allow access to the math module\n",
    "                'datetime': datetime, # Allow access to datetime module\n",
    "                'random': random, # Allow access to random module\n",
    "                'numpy': numpy, # Allow access to numpy module\n",
    "                're': re,\n",
    "                'matplotlib': matplotlib,\n",
    "                'pandas': pandas,\n",
    "                'plotly': plotly\n",
    "            }\n",
    "        }\n",
    "        \n",
    "        # add in equipped functions one by one\n",
    "        for function_name in agent.function_map:\n",
    "            if function_name not in ['use_llm', 'end_task', 'python_generate_and_run_code_tool']:\n",
    "                allowed_globals['__builtins__'][function_name] = external_function_wrapper(function_name, shared_variables)\n",
    "\n",
    "        safe_locals = {}\n",
    "\n",
    "        exec(code_snippet, allowed_globals, safe_locals)\n",
    "        output = sys.stdout.getvalue()\n",
    "    except Exception as e:\n",
    "        output = f\"Error: {e}\"\n",
    "    finally:\n",
    "        # Restore the original stdout\n",
    "        sys.stdout = old_stdout\n",
    "\n",
    "    return output"
   ]
  },
  {
   "cell_type": "code",
   "execution_count": 66,
   "id": "3b24ea1a-8ee8-49b0-8ea3-408807e35bf7",
   "metadata": {
    "tags": []
   },
   "outputs": [
    {
     "data": {
      "text/plain": [
       "'This is a great tool to debug and run code!\\nAwesome!\\n'"
      ]
     },
     "execution_count": 66,
     "metadata": {},
     "output_type": "execute_result"
    }
   ],
   "source": [
    "python_run_tool({'agent': Agent('Generalist Agent', 'Does Everything', llm = llm)},\n",
    "                 'print(\"This is a great tool to debug and run code!\")\\nprint(\"Awesome!\")')"
   ]
  },
  {
   "cell_type": "code",
   "execution_count": 67,
   "id": "ad33dc12-e535-4ec3-854b-8a29e7ac1121",
   "metadata": {
    "tags": []
   },
   "outputs": [],
   "source": [
    "python_debug_tool = Function('''Debugs Python Code and returns corrected code.\n",
    "Instruction: <instruction: str>\n",
    "Current Code: <python_code: str>\n",
    "Error Message: <error_msg: str>''',\n",
    "                                 output_format = {'Thoughts': 'How to correct code', 'Corrected Code': 'type: code'}, \n",
    "                             fn_name = 'python_debug_tool', \n",
    "                             llm = llm)"
   ]
  },
  {
   "cell_type": "code",
   "execution_count": 68,
   "id": "928c5385-23ce-461d-8435-6ad00f462dba",
   "metadata": {
    "tags": []
   },
   "outputs": [
    {
     "data": {
      "text/plain": [
       "{'Thoughts': 'The code has a syntax error due to the incorrect placement of the number and the print function. It should be corrected to properly assign a value to result and then print it.',\n",
       " 'Corrected Code': 'result = 3\\nprint(result)'}"
      ]
     },
     "execution_count": 68,
     "metadata": {},
     "output_type": "execute_result"
    }
   ],
   "source": [
    "python_debug_tool('Print result', 'result = 3print(result)', 'invalid decimal literal (<string>, line 1)')"
   ]
  },
  {
   "cell_type": "markdown",
   "id": "37f55b09-def9-4706-98cb-84a84ba2cf54",
   "metadata": {},
   "source": [
    "## Combining all Python Code tools into one\n",
    "- This is like a rule-based agent, doing the three functions inside it, so that we don't have to keep passing in code as input variable to the functions\n",
    "- This is also a context-based function, taking in agent's overall task and subtasks completed via shared_variables"
   ]
  },
  {
   "cell_type": "code",
   "execution_count": 69,
   "id": "04fde2ab-40e9-49e1-a3d2-d36fa899e519",
   "metadata": {
    "tags": []
   },
   "outputs": [],
   "source": [
    "# Uses LLM to generate Code\n",
    "def python_generate_and_run_code(shared_variables, instruction: str) -> str:\n",
    "    ''' Generates and runs code based on instruction. \n",
    "You can only import the following modules: math, numpy, random, datetime, re, matplotlib, pandas, plotly\n",
    "You can use all Equipped Functions except use_llm and end_task. \n",
    "Returns 1) the result of all print statements in code, or error messages, and 2) the code '''\n",
    "    # from termcolor import colored\n",
    "    \n",
    "    # Append context to tool\n",
    "    if shared_variables and 'agent' in shared_variables:\n",
    "        instruction = f\"Context: {shared_variables['agent'].overall_task}\\nPrevious Subtasks: {shared_variables['agent'].subtasks_completed}\\nInstruction: {instruction}\"\n",
    "    # Generate Code\n",
    "    python_code = python_generator_tool(shared_variables, instruction)['Code']\n",
    "    # print(colored(f'Generated code: ```{python_code}```', 'magenta'))\n",
    "    \n",
    "    # Run and Debug Code\n",
    "    for _ in range(3):\n",
    "        output = python_run_tool(shared_variables, python_code)\n",
    "\n",
    "        if output[:5] == \"Error\":\n",
    "            debugged_code = python_debug_tool(instruction, python_code, output)\n",
    "            python_code = debugged_code['Corrected Code']\n",
    "            # print(colored(output, 'red'))\n",
    "            # print(colored(f'Debugged code: ```{python_code}```', 'magenta'))\n",
    "        else:\n",
    "            break\n",
    "            \n",
    "    return output, python_code\n",
    "\n",
    "# Make this function compulsory\n",
    "python_generate_and_run_code_tool = Function(\n",
    "    external_fn = python_generate_and_run_code, \n",
    "    fn_name = 'python_generate_and_run_code_tool', \n",
    "    is_compulsory = True)"
   ]
  },
  {
   "cell_type": "code",
   "execution_count": 70,
   "id": "761e5b7e-cb38-42b4-9b33-49e24f5578ed",
   "metadata": {
    "tags": []
   },
   "outputs": [
    {
     "name": "stdout",
     "output_type": "stream",
     "text": [
      "Filtered Function Names: wikipedia_tool\n"
     ]
    },
    {
     "data": {
      "text/plain": [
       "{'output_1': '[3, 5, 7, 11, 13, 17, 19, 23, 29, 31]\\n',\n",
       " 'output_2': 'import numpy as np\\n\\nprimes = []\\nnum = 3\\nwhile len(primes) < 10:\\n    is_prime = True\\n    for i in range(3, int(np.sqrt(num)) + 1, 2):\\n        if num % i == 0:\\n            is_prime = False\\n            break\\n    if is_prime:\\n        primes.append(num)\\n    num += 2\\n\\nprint(primes)'}"
      ]
     },
     "execution_count": 70,
     "metadata": {},
     "output_type": "execute_result"
    }
   ],
   "source": [
    "python_generate_and_run_code_tool(shared_variables = shared_variables, instruction = 'Give me first 10 primes, without 2 and 5')"
   ]
  },
  {
   "cell_type": "markdown",
   "id": "97fcf132-f037-4ad2-9492-c9e30c778db2",
   "metadata": {
    "tags": []
   },
   "source": [
    "# General CodeGen showcase"
   ]
  },
  {
   "cell_type": "code",
   "execution_count": 71,
   "id": "e5a70ecf-a613-441d-b689-c4b09c9583e6",
   "metadata": {},
   "outputs": [],
   "source": [
    "agent = Agent('Generalist Agent', \n",
    "'''Helps user with tasks. When deterministic output or plots are needed, generate and run code. Do not use LLM for calculations.''',\n",
    "             summarise_subtasks_count = 10,\n",
    "             llm = llm).assign_functions(\n",
    "    [wikipedia_tool, python_generate_and_run_code_tool])"
   ]
  },
  {
   "cell_type": "code",
   "execution_count": 72,
   "id": "8ecd00be-93c2-42e3-9865-5341fd290040",
   "metadata": {
    "tags": []
   },
   "outputs": [
    {
     "name": "stdout",
     "output_type": "stream",
     "text": [
      "\u001b[1m\u001b[30mObservation: No subtasks have been completed yet for the assigned task regarding the number of apples John has.\u001b[0m\n",
      "\u001b[1m\u001b[32mThoughts: To complete the assigned task, I need to calculate the total number of apples John has after receiving and giving away apples. This involves simple arithmetic operations.\u001b[0m\n",
      "\u001b[1m\u001b[34mSubtask identified: Generate and run code to calculate the final number of apples John has after receiving 21 apples and giving away 10 apples.\u001b[0m\n",
      "Calling function python_generate_and_run_code_tool with parameters {'instruction': 'Generate and run code to calculate the final number of apples John has after receiving 21 apples and giving away 10 apples.'}\n",
      "Filtered Function Names: wikipedia_tool, python_generate_and_run_code_tool\n",
      "> {'output_1': '16\\n', 'output_2': 'import numpy as np\\n\\n# Initial number of apples\\njohn_apples = 5\\n\\n# Apples received from Mary\\nreceived_apples = 21\\n\\n# Apples given to Tim\\ngiven_apples = 10\\n\\n# Final number of apples\\nfinal_apples = john_apples + received_apples - given_apples\\n\\nprint(final_apples)'}\n",
      "\n",
      "\u001b[1m\u001b[30mObservation: The calculation for the final number of apples John has has been completed, resulting in 16 apples.\u001b[0m\n",
      "\u001b[1m\u001b[32mThoughts: Since the task is to determine how many apples John has at the end, and we have already calculated that he has 16 apples, the next step is to finalize and present this result to the user.\u001b[0m\n",
      "\u001b[1m\u001b[34mSubtask identified: End Task\u001b[0m\n",
      "Task completed successfully!\n",
      "\n"
     ]
    },
    {
     "data": {
      "text/plain": [
       "[{'output_1': '16\\n',\n",
       "  'output_2': 'import numpy as np\\n\\n# Initial number of apples\\njohn_apples = 5\\n\\n# Apples received from Mary\\nreceived_apples = 21\\n\\n# Apples given to Tim\\ngiven_apples = 10\\n\\n# Final number of apples\\nfinal_apples = john_apples + received_apples - given_apples\\n\\nprint(final_apples)'}]"
      ]
     },
     "execution_count": 72,
     "metadata": {},
     "output_type": "execute_result"
    }
   ],
   "source": [
    "agent.reset()\n",
    "agent.run('John has 5 apples. John received another 21 more from Mary, and gave 10 to Tim. How many apples does John have at the end?')"
   ]
  },
  {
   "cell_type": "code",
   "execution_count": 73,
   "id": "63f3c0c3-19e5-4465-af6a-aa24e46c4c9b",
   "metadata": {
    "tags": []
   },
   "outputs": [
    {
     "name": "stdout",
     "output_type": "stream",
     "text": [
      "To determine how many apples John has at the end, we start with the initial number of apples he has, which is 5. John then receives 21 apples from Mary, bringing his total to 5 + 21 = 26 apples. After that, John gives away 10 apples to Tim. Therefore, the final calculation is 26 - 10 = 16 apples. Thus, John has 16 apples at the end.\n"
     ]
    },
    {
     "data": {
      "text/plain": [
       "'To determine how many apples John has at the end, we start with the initial number of apples he has, which is 5. John then receives 21 apples from Mary, bringing his total to 5 + 21 = 26 apples. After that, John gives away 10 apples to Tim. Therefore, the final calculation is 26 - 10 = 16 apples. Thus, John has 16 apples at the end.'"
      ]
     },
     "execution_count": 73,
     "metadata": {},
     "output_type": "execute_result"
    }
   ],
   "source": [
    "agent.reply_user()"
   ]
  },
  {
   "cell_type": "code",
   "execution_count": 74,
   "id": "45745b01-e18a-4863-a356-a25e5ef10d9e",
   "metadata": {
    "tags": []
   },
   "outputs": [
    {
     "name": "stdout",
     "output_type": "stream",
     "text": [
      "\u001b[1m\u001b[30mObservation: No subtasks have been completed yet for the task of plotting the graph of y = 2x^2.\u001b[0m\n",
      "\u001b[1m\u001b[32mThoughts: To complete the task, I need to generate code that will create a plot for the function y = 2x^2. This involves defining the range of x values, calculating the corresponding y values, and then using a plotting library to visualize the graph.\u001b[0m\n",
      "\u001b[1m\u001b[34mSubtask identified: Generate and run code to plot the graph of y = 2x^2 using a suitable plotting library.\u001b[0m\n",
      "Calling function python_generate_and_run_code_tool with parameters {'instruction': 'Generate and run code to plot the graph of y = 2x^2 using a suitable plotting library.'}\n",
      "Filtered Function Names: wikipedia_tool, python_generate_and_run_code_tool\n"
     ]
    },
    {
     "data": {
      "image/png": "[encoded data removed]",
      "text/plain": [
       "<Figure size 800x600 with 1 Axes>"
      ]
     },
     "metadata": {},
     "output_type": "display_data"
    },
    {
     "name": "stdout",
     "output_type": "stream",
     "text": [
      "> {'output_1': '', 'output_2': \"import numpy as np\\nimport matplotlib.pyplot as plt\\n\\n# Define the range of x values\\nx = np.linspace(-10, 10, 400)\\n# Define the function y = 2x^2\\ny = 2 * x**2\\n\\n# Create the plot\\nplt.figure(figsize=(8, 6))\\nplt.plot(x, y, label='y = 2x^2', color='blue')\\nplt.title('Graph of y = 2x^2')\\nplt.xlabel('x')\\nplt.ylabel('y')\\nplt.axhline(0, color='black',linewidth=0.5, ls='--')\\nplt.axvline(0, color='black',linewidth=0.5, ls='--')\\nplt.grid(color = 'gray', linestyle = '--', linewidth = 0.5)\\nplt.legend()\\nplt.show()\"}\n",
      "\n",
      "\u001b[1m\u001b[30mObservation: The code to plot the graph of y = 2x^2 has been generated and run successfully, but the output of the plot has not been displayed to the user yet.\u001b[0m\n",
      "\u001b[1m\u001b[32mThoughts: To complete the assigned task, I need to pass the final output of the plot to the user, as the graph has already been created and displayed.\u001b[0m\n",
      "\u001b[1m\u001b[34mSubtask identified: End Task\u001b[0m\n",
      "Task completed successfully!\n",
      "\n"
     ]
    },
    {
     "data": {
      "text/plain": [
       "[{'output_1': '',\n",
       "  'output_2': \"import numpy as np\\nimport matplotlib.pyplot as plt\\n\\n# Define the range of x values\\nx = np.linspace(-10, 10, 400)\\n# Define the function y = 2x^2\\ny = 2 * x**2\\n\\n# Create the plot\\nplt.figure(figsize=(8, 6))\\nplt.plot(x, y, label='y = 2x^2', color='blue')\\nplt.title('Graph of y = 2x^2')\\nplt.xlabel('x')\\nplt.ylabel('y')\\nplt.axhline(0, color='black',linewidth=0.5, ls='--')\\nplt.axvline(0, color='black',linewidth=0.5, ls='--')\\nplt.grid(color = 'gray', linestyle = '--', linewidth = 0.5)\\nplt.legend()\\nplt.show()\"}]"
      ]
     },
     "execution_count": 74,
     "metadata": {},
     "output_type": "execute_result"
    }
   ],
   "source": [
    "agent.reset()\n",
    "agent.run('Plot me a graph of y = 2x^2')"
   ]
  },
  {
   "cell_type": "code",
   "execution_count": 75,
   "id": "6d4cc46c-d2dc-40e0-b124-e5764d6ea058",
   "metadata": {
    "tags": []
   },
   "outputs": [
    {
     "name": "stdout",
     "output_type": "stream",
     "text": [
      "\u001b[1m\u001b[30mObservation: No subtasks have been completed yet for the task of identifying the first 10 prime numbers.\u001b[0m\n",
      "\u001b[1m\u001b[32mThoughts: To complete the task, I need to generate a list of the first 10 prime numbers. This can be done by writing a simple algorithm to find prime numbers and then running the code to get the result.\u001b[0m\n",
      "\u001b[1m\u001b[34mSubtask identified: Generate and run code to calculate the first 10 prime numbers using a suitable algorithm.\u001b[0m\n",
      "Calling function python_generate_and_run_code_tool with parameters {'instruction': 'Generate and run code to calculate the first 10 prime numbers using a suitable algorithm.'}\n",
      "Filtered Function Names: wikipedia_tool, python_generate_and_run_code_tool\n",
      "> {'output_1': '[2, 3, 5, 7, 11, 13, 17, 19, 23, 29]\\n', 'output_2': 'import math\\n\\n# Initialize variables\\nprime_numbers = []\\nnum = 2\\n\\n# Loop until we find the first 10 prime numbers\\nwhile len(prime_numbers) < 10:\\n    is_prime = True\\n    for i in range(2, int(math.sqrt(num)) + 1):\\n        if num % i == 0:\\n            is_prime = False\\n            break\\n    if is_prime:\\n        prime_numbers.append(num)\\n    num += 1\\n\\n# Print the first 10 prime numbers\\nprint(prime_numbers)'}\n",
      "\n",
      "\u001b[1m\u001b[30mObservation: The first 10 prime numbers have been successfully calculated and are: [2, 3, 5, 7, 11, 13, 17, 19, 23, 29].\u001b[0m\n",
      "\u001b[1m\u001b[32mThoughts: Since the task of finding the first 10 prime numbers is complete, the next step is to present this result to the user.\u001b[0m\n",
      "\u001b[1m\u001b[34mSubtask identified: End Task\u001b[0m\n",
      "Task completed successfully!\n",
      "\n"
     ]
    },
    {
     "data": {
      "text/plain": [
       "[{'output_1': '[2, 3, 5, 7, 11, 13, 17, 19, 23, 29]\\n',\n",
       "  'output_2': 'import math\\n\\n# Initialize variables\\nprime_numbers = []\\nnum = 2\\n\\n# Loop until we find the first 10 prime numbers\\nwhile len(prime_numbers) < 10:\\n    is_prime = True\\n    for i in range(2, int(math.sqrt(num)) + 1):\\n        if num % i == 0:\\n            is_prime = False\\n            break\\n    if is_prime:\\n        prime_numbers.append(num)\\n    num += 1\\n\\n# Print the first 10 prime numbers\\nprint(prime_numbers)'}]"
      ]
     },
     "execution_count": 75,
     "metadata": {},
     "output_type": "execute_result"
    }
   ],
   "source": [
    "agent.reset()\n",
    "agent.run('What are the first 10 prime numbers?')"
   ]
  },
  {
   "cell_type": "code",
   "execution_count": 76,
   "id": "935e82a7-e207-4ff1-9187-d57d57e82806",
   "metadata": {
    "tags": []
   },
   "outputs": [
    {
     "name": "stdout",
     "output_type": "stream",
     "text": [
      "\u001b[1m\u001b[30mObservation: No subtasks have been completed yet for the task of identifying who Joe Biden is and calculating his current age.\u001b[0m\n",
      "\u001b[1m\u001b[32mThoughts: To complete the task, I need to gather information about Joe Biden and perform a calculation to determine his current age based on the current date.\u001b[0m\n",
      "\u001b[1m\u001b[34mSubtask identified: Search for information about Joe Biden on Wikipedia to gather relevant details about his identity and background.\u001b[0m\n",
      "Calling function wikipedia_tool with parameters {'search_query': 'Joe Biden site:wikipedia.org'}\n",
      "> {'output_1': 'Page: Inauguration of Joe Biden\\nSummary: The inauguration of Joe Biden as the 46th president of the United States took place on Wednesday, January 20, 2021, on the West Front of the United States Capitol in Washington, D.C. It was the 59th inauguration and marked the commencement of Joe Biden\\'s only term as president and Kamala Harris\\' only term as vice president. Biden took the presidential oath of office, before which Harris took the vice presidential oath of office.\\nThe inauguration took place amidst extraordinary political, public health, economic, and national security crises, including the COVID-19 pandemic; outgoing President Donald Trump\\'s attempts to overturn the 2020 United States presidential election, which provoked an attack on the United States Capitol on January 6; Trump\\'s second impeachment; and a threat of widespread civil unrest, which stimulated a nationwide law enforcement response. Festivities were sharply curtailed by efforts to prevent the spread of COVID-19 and mitigate the potential for violence near the Capitol. The live audience was limited; members of the Congress attended with one guest of their choosing, resembling a State of the Union address. Public health measures such as mandatory face coverings, testing, temperature checks, and social distancing were used to protect participants in the ceremony.\\n\"America United\" and \"Our Determined Democracy: Forging a More Perfect Union\"—a reference to the Preamble to the United States Constitution—served as the inaugural themes.\\nAt 78 years and 61 days of age, Biden was the second oldest person to assume the presidency, with Ronald Reagan at 73 years and 349 days old for his second inauguration in 1985 being third; he is surpassed only by Donald Trump, who was 78 years and 220 days old at his second inauguration in 2025.\\n\\nPage: Beau Biden\\nSummary: Joseph Robinette \"Beau\" Biden III (February 3, 1969 – May 30, 2015) was an American politician, lawyer, and officer in the Army Judge Advocate General\\'s Corps from Wilmington, Delaware. He was the eldest child of 46th U.S. president, Joe Biden and Neilia Hunter Biden, served as the 44th attorney general of Delaware from 2007 to 2015, and was a major in the Delaware Army National Guard in the Iraq War. He died of glioblastoma at the age of 46 in 2015, at which time he was a candidate for the Democratic nomination for governor of Delaware in the 2016 gubernatorial election. A portion of the 21st Century Cures Act was named the Beau Biden Cancer Moonshot initiative after him.\\n\\nPage: Biden–Ukraine conspiracy theory\\nSummary: The Biden–Ukraine conspiracy theory is a series of false allegations that Joe Biden, while he was vice president of the United States, improperly withheld a loan guarantee and took a bribe to pressure Ukraine into firing prosecutor general Viktor Shokin to prevent a corruption investigation of Ukrainian gas company Burisma and to protect his son, Hunter Biden, who was on the Burisma board. As part of efforts by Donald Trump and his campaign in the Trump–Ukraine scandal, which led to Trump\\'s first impeachment, these falsehoods were spread in an attempt to damage Joe Biden\\'s reputation and chances during the 2020 presidential campaign, and later in an effort to impeach him.\\nJoe Biden followed State Department intentions when he withheld the loan guarantee to pressure Ukraine into removing the prosecutor who was seen as corrupt and failing to clean up Ukrainian corruption, in accordance with the official and bipartisan policy of the United States, the European Union, the World Bank and the International Monetary Fund. A confidential informant told the FBI that Burisma\\'s owner said he was coerced to pay bribes to both Bidens to ensure Shokin was fired, though the informant was indicted in 2024 on charges he had fabricated the account.\\nUnited States intelligence community analysis released in March 2021 found that proxies of Russian intelligence promoted and laundered misleading or unsubstantiated narra'}\n",
      "\n",
      "\u001b[1m\u001b[30mObservation: I have gathered information about Joe Biden from Wikipedia, including details about his inauguration and age at that time, which was 78 years and 61 days. However, I still need to calculate his current age based on the current date.\u001b[0m\n",
      "\u001b[1m\u001b[32mThoughts: To determine Joe Biden's current age, I need to calculate the difference between his birth date and today's date. I can use the current date and his birth date, which is November 20, 1942, to perform this calculation.\u001b[0m\n",
      "\u001b[1m\u001b[34mSubtask identified: Calculate Joe Biden's current age by finding the difference between today's date and his birth date, November 20, 1942.\u001b[0m\n",
      "Calling function python_generate_and_run_code_tool with parameters {'instruction': \"Calculate Joe Biden's current age by finding the difference between today's date and his birth date, November 20, 1942.\"}\n",
      "Filtered Function Names: wikipedia_tool, python_generate_and_run_code_tool\n",
      "> {'output_1': 'Joe Biden is currently 82 years old.\\n', 'output_2': \"import datetime\\n\\n# Define Joe Biden's birth date\\nbirth_date = datetime.datetime(1942, 11, 20)\\n\\n# Get today's date\\ncurrent_date = datetime.datetime.now()\\n\\n# Calculate age\\nage = current_date.year - birth_date.year - ((current_date.month, current_date.day) < (birth_date.month, birth_date.day))\\n\\nprint(f'Joe Biden is currently {age} years old.')\"}\n",
      "\n",
      "\u001b[1m\u001b[30mObservation: The task of identifying who Joe Biden is has been partially completed by retrieving information from Wikipedia, including details about his inauguration and background. Additionally, the calculation of his current age has been successfully performed, revealing that he is currently 82 years old.\u001b[0m\n",
      "\u001b[1m\u001b[32mThoughts: Since the information about Joe Biden has been gathered and his age calculated, the next step is to compile this information into a coherent response that answers the user's question about who Joe Biden is and how old he is.\u001b[0m\n",
      "\u001b[1m\u001b[34mSubtask identified: End Task\u001b[0m\n",
      "Task completed successfully!\n",
      "\n"
     ]
    },
    {
     "data": {
      "text/plain": [
       "[{'output_1': 'Page: Inauguration of Joe Biden\\nSummary: The inauguration of Joe Biden as the 46th president of the United States took place on Wednesday, January 20, 2021, on the West Front of the United States Capitol in Washington, D.C. It was the 59th inauguration and marked the commencement of Joe Biden\\'s only term as president and Kamala Harris\\' only term as vice president. Biden took the presidential oath of office, before which Harris took the vice presidential oath of office.\\nThe inauguration took place amidst extraordinary political, public health, economic, and national security crises, including the COVID-19 pandemic; outgoing President Donald Trump\\'s attempts to overturn the 2020 United States presidential election, which provoked an attack on the United States Capitol on January 6; Trump\\'s second impeachment; and a threat of widespread civil unrest, which stimulated a nationwide law enforcement response. Festivities were sharply curtailed by efforts to prevent the spread of COVID-19 and mitigate the potential for violence near the Capitol. The live audience was limited; members of the Congress attended with one guest of their choosing, resembling a State of the Union address. Public health measures such as mandatory face coverings, testing, temperature checks, and social distancing were used to protect participants in the ceremony.\\n\"America United\" and \"Our Determined Democracy: Forging a More Perfect Union\"—a reference to the Preamble to the United States Constitution—served as the inaugural themes.\\nAt 78 years and 61 days of age, Biden was the second oldest person to assume the presidency, with Ronald Reagan at 73 years and 349 days old for his second inauguration in 1985 being third; he is surpassed only by Donald Trump, who was 78 years and 220 days old at his second inauguration in 2025.\\n\\nPage: Beau Biden\\nSummary: Joseph Robinette \"Beau\" Biden III (February 3, 1969 – May 30, 2015) was an American politician, lawyer, and officer in the Army Judge Advocate General\\'s Corps from Wilmington, Delaware. He was the eldest child of 46th U.S. president, Joe Biden and Neilia Hunter Biden, served as the 44th attorney general of Delaware from 2007 to 2015, and was a major in the Delaware Army National Guard in the Iraq War. He died of glioblastoma at the age of 46 in 2015, at which time he was a candidate for the Democratic nomination for governor of Delaware in the 2016 gubernatorial election. A portion of the 21st Century Cures Act was named the Beau Biden Cancer Moonshot initiative after him.\\n\\nPage: Biden–Ukraine conspiracy theory\\nSummary: The Biden–Ukraine conspiracy theory is a series of false allegations that Joe Biden, while he was vice president of the United States, improperly withheld a loan guarantee and took a bribe to pressure Ukraine into firing prosecutor general Viktor Shokin to prevent a corruption investigation of Ukrainian gas company Burisma and to protect his son, Hunter Biden, who was on the Burisma board. As part of efforts by Donald Trump and his campaign in the Trump–Ukraine scandal, which led to Trump\\'s first impeachment, these falsehoods were spread in an attempt to damage Joe Biden\\'s reputation and chances during the 2020 presidential campaign, and later in an effort to impeach him.\\nJoe Biden followed State Department intentions when he withheld the loan guarantee to pressure Ukraine into removing the prosecutor who was seen as corrupt and failing to clean up Ukrainian corruption, in accordance with the official and bipartisan policy of the United States, the European Union, the World Bank and the International Monetary Fund. A confidential informant told the FBI that Burisma\\'s owner said he was coerced to pay bribes to both Bidens to ensure Shokin was fired, though the informant was indicted in 2024 on charges he had fabricated the account.\\nUnited States intelligence community analysis released in March 2021 found that proxies of Russian intelligence promoted and laundered misleading or unsubstantiated narra'},\n",
       " {'output_1': 'Joe Biden is currently 82 years old.\\n',\n",
       "  'output_2': \"import datetime\\n\\n# Define Joe Biden's birth date\\nbirth_date = datetime.datetime(1942, 11, 20)\\n\\n# Get today's date\\ncurrent_date = datetime.datetime.now()\\n\\n# Calculate age\\nage = current_date.year - birth_date.year - ((current_date.month, current_date.day) < (birth_date.month, birth_date.day))\\n\\nprint(f'Joe Biden is currently {age} years old.')\"}]"
      ]
     },
     "execution_count": 76,
     "metadata": {},
     "output_type": "execute_result"
    }
   ],
   "source": [
    "agent.reset()\n",
    "agent.run('Who is Joe Biden and how old is he now based on calculation?')"
   ]
  },
  {
   "cell_type": "code",
   "execution_count": 77,
   "id": "a78e0343-d854-46d2-9bf0-647af8f0ad96",
   "metadata": {
    "tags": []
   },
   "outputs": [
    {
     "name": "stdout",
     "output_type": "stream",
     "text": [
      "Joe Biden is the 46th president of the United States, having been inaugurated on January 20, 2021. He was born on November 20, 1942, making him currently 82 years old. Biden took the presidential oath of office amidst significant political, public health, economic, and national security challenges, including the COVID-19 pandemic and the aftermath of the 2020 presidential election. He is the second oldest person to assume the presidency, following Donald Trump, who was 78 years old at his second inauguration. Additionally, Joe Biden is the father of Beau Biden, who served as the 44th attorney general of Delaware and passed away in 2015. Biden has been the subject of various conspiracy theories, particularly regarding his actions during his vice presidency related to Ukraine, which have been debunked by U.S. intelligence analysis.\n"
     ]
    },
    {
     "data": {
      "text/plain": [
       "'Joe Biden is the 46th president of the United States, having been inaugurated on January 20, 2021. He was born on November 20, 1942, making him currently 82 years old. Biden took the presidential oath of office amidst significant political, public health, economic, and national security challenges, including the COVID-19 pandemic and the aftermath of the 2020 presidential election. He is the second oldest person to assume the presidency, following Donald Trump, who was 78 years old at his second inauguration. Additionally, Joe Biden is the father of Beau Biden, who served as the 44th attorney general of Delaware and passed away in 2015. Biden has been the subject of various conspiracy theories, particularly regarding his actions during his vice presidency related to Ukraine, which have been debunked by U.S. intelligence analysis.'"
      ]
     },
     "execution_count": 77,
     "metadata": {},
     "output_type": "execute_result"
    }
   ],
   "source": [
    "agent.reply_user()"
   ]
  },
  {
   "cell_type": "code",
   "execution_count": 78,
   "id": "cb4b67b4-37e1-4c82-83ec-0ffc5faa4dc7",
   "metadata": {
    "tags": []
   },
   "outputs": [
    {
     "name": "stdout",
     "output_type": "stream",
     "text": [
      "Joe Biden is currently 82 years old. He was born on November 20, 1942. Biden is the 46th president of the United States, having been inaugurated on January 20, 2021. He is the second oldest person to assume the presidency, following Donald Trump, who was 78 years old at his second inauguration.\n"
     ]
    },
    {
     "data": {
      "text/plain": [
       "'Joe Biden is currently 82 years old. He was born on November 20, 1942. Biden is the 46th president of the United States, having been inaugurated on January 20, 2021. He is the second oldest person to assume the presidency, following Donald Trump, who was 78 years old at his second inauguration.'"
      ]
     },
     "execution_count": 78,
     "metadata": {},
     "output_type": "execute_result"
    }
   ],
   "source": [
    "agent.reply_user('Reply only the age')"
   ]
  },
  {
   "cell_type": "markdown",
   "id": "e5037b8e-1438-4b32-9cd4-377279fdbda8",
   "metadata": {},
   "source": [
    "# Code as Action\n",
    "- Executable Code Actions Elicit Better LLM Agents (Wang et al, 2024)\n",
    "- https://arxiv.org/abs/2402.01030\n",
    "\n",
    "- **How to use it**: Equip `python_generate_and_run_code_tool` and set `code_action = True` to make this function be used as default other than `end_task`. Also mention to use `python_generate_and_run_code_tool` as default in the Agent prompt.\n",
    "\n",
    "- My take:\n",
    "    - It is not as robust as the way we do modular function calling like the rest of AgentJo\n",
    "    - Should use better LLMs like `gpt-4o-mini` to be viable\n",
    "    - Try to specify 'at one go' in the task to encourage LLM to use all Equipped Functions in the same code"
   ]
  },
  {
   "cell_type": "code",
   "execution_count": 79,
   "id": "fa59d181-b172-4171-a0c6-f16f9dd1fbfa",
   "metadata": {
    "tags": []
   },
   "outputs": [],
   "source": [
    "def return_random_person() -> str:\n",
    "    '''Returns a random person name'''\n",
    "    import numpy as np\n",
    "    return np.random.choice(['Alice', 'Bob', 'Cindy', 'Don', 'Edward'])"
   ]
  },
  {
   "cell_type": "code",
   "execution_count": 80,
   "id": "12493d87-7e25-4fab-b8d1-8d5799e3616a",
   "metadata": {
    "tags": []
   },
   "outputs": [],
   "source": [
    "agent = Agent('Code Agent', \n",
    "'''Uses code to solve tasks''',\n",
    "              code_action = True, # this forces python_generate_and_run_code_tool to be the default action\n",
    "             summarise_subtasks_count = 10,\n",
    "             llm = llm).assign_functions(\n",
    "    [python_generate_and_run_code_tool, return_random_person])"
   ]
  },
  {
   "cell_type": "code",
   "execution_count": 81,
   "id": "05f5e8f6-267e-4a98-b41b-65d04b61401f",
   "metadata": {
    "tags": []
   },
   "outputs": [
    {
     "name": "stdout",
     "output_type": "stream",
     "text": [
      "\u001b[1m\u001b[30mObservation: No subtasks have been completed yet for the task of generating three unique random names.\u001b[0m\n",
      "\u001b[1m\u001b[32mThoughts: To complete the task, I need to generate three unique random names. I can use the return_random_person function to get random names, ensuring that I check for uniqueness as I collect them.\u001b[0m\n",
      "\u001b[1m\u001b[34mSubtask identified: Generate a random name using the return_random_person function and check if it is unique. Repeat this process until I have three unique names.\u001b[0m\n",
      "Calling function python_generate_and_run_code_tool with parameters {'instruction': 'Generate a random name using the return_random_person function and check if it is unique. Repeat this process until I have three unique names.'}\n",
      "Filtered Function Names: python_generate_and_run_code_tool, return_random_person\n",
      "> {'output_1': 'Edward\\nDon\\nCindy\\n', 'output_2': \"import random\\n\\nunique_names = set()\\nwhile len(unique_names) < 3:\\n    name = return_random_person()['output_1']\\n    unique_names.add(name)\\n\\nfor name in unique_names:\\n    print(name)\"}\n",
      "\n",
      "\u001b[1m\u001b[30mObservation: Three random names have been generated: Edward, Don, and Cindy. They are unique as required.\u001b[0m\n",
      "\u001b[1m\u001b[32mThoughts: Since the task of generating three unique random names is complete, I can now proceed to finalize the output and pass it to the user.\u001b[0m\n",
      "\u001b[1m\u001b[34mSubtask identified: End Task\u001b[0m\n",
      "Task completed successfully!\n",
      "\n"
     ]
    },
    {
     "data": {
      "text/plain": [
       "[{'output_1': 'Edward\\nDon\\nCindy\\n',\n",
       "  'output_2': \"import random\\n\\nunique_names = set()\\nwhile len(unique_names) < 3:\\n    name = return_random_person()['output_1']\\n    unique_names.add(name)\\n\\nfor name in unique_names:\\n    print(name)\"}]"
      ]
     },
     "execution_count": 81,
     "metadata": {},
     "output_type": "execute_result"
    }
   ],
   "source": [
    "agent.reset()\n",
    "agent.run('Generate three random names in one go. Ensure names are unique.')"
   ]
  },
  {
   "cell_type": "code",
   "execution_count": 82,
   "id": "eb3b5a07-b5e2-4dd2-a27a-37595e755da0",
   "metadata": {
    "tags": []
   },
   "outputs": [
    {
     "name": "stdout",
     "output_type": "stream",
     "text": [
      "The three unique names generated are: Edward, Don, and Cindy.\n"
     ]
    },
    {
     "data": {
      "text/plain": [
       "'The three unique names generated are: Edward, Don, and Cindy.'"
      ]
     },
     "execution_count": 82,
     "metadata": {},
     "output_type": "execute_result"
    }
   ],
   "source": [
    "agent.reply_user('Reply only the three names')"
   ]
  }
 ],
 "metadata": {
  "kernelspec": {
   "display_name": "Python 3 (ipykernel)",
   "language": "python",
   "name": "python3"
  },
  "language_info": {
   "codemirror_mode": {
    "name": "ipython",
    "version": 3
   },
   "file_extension": ".py",
   "mimetype": "text/x-python",
   "name": "python",
   "nbconvert_exporter": "python",
   "pygments_lexer": "ipython3",
   "version": "3.12.2"
  }
 },
 "nbformat": 4,
 "nbformat_minor": 5
}
