{
 "cells": [
  {
   "cell_type": "markdown",
   "id": "2b9de9dd-6a65-452e-b1a3-f19d22460cfb",
   "metadata": {},
   "source": [
    "# Main Game Logic v3.5\n",
    "- Modified: 08 Apr 2025\n",
    "- Adds map stitching\n",
    "- Uses `parse_yaml` from strictjson (functionality to be added to AgentJo shortly after more testing!)\n",
    "- Added Prediction, Insights, better Context\n",
    "- Added Thoughts streaming"
   ]
  },
  {
   "cell_type": "code",
   "execution_count": 7,
   "id": "1ff35fcd",
   "metadata": {},
   "outputs": [
    {
     "data": {
      "text/plain": [
       "'c:\\\\Users\\\\nicho\\\\Documents\\\\agentjo\\\\projects\\\\Pokemon\\\\Game'"
      ]
     },
     "execution_count": 7,
     "metadata": {},
     "output_type": "execute_result"
    }
   ],
   "source": [
    "import os\n",
    "os.getcwd()"
   ]
  },
  {
   "cell_type": "code",
   "execution_count": 3,
   "id": "d0e12515",
   "metadata": {},
   "outputs": [],
   "source": [
    "# !pip install python-dotenv"
   ]
  },
  {
   "cell_type": "code",
   "execution_count": 1,
   "id": "1216ac4a-24e0-4db3-b14f-93dcfc1917a9",
   "metadata": {},
   "outputs": [
    {
     "data": {
      "text/plain": [
       "True"
      ]
     },
     "execution_count": 1,
     "metadata": {},
     "output_type": "execute_result"
    }
   ],
   "source": [
    "from dotenv import load_dotenv\n",
    "import time\n",
    "from IPython.display import clear_output\n",
    "\n",
    "# put your secret keys in your .env\n",
    "# For instance, if you are using OpenAI, your .env should contain\n",
    "# export OPENAI_API_KEY = \"sk-.......\"\n",
    "load_dotenv(override=True)"
   ]
  },
  {
   "cell_type": "code",
   "execution_count": 2,
   "id": "ccceba75-c43c-4614-96fd-6a186511fbf3",
   "metadata": {},
   "outputs": [],
   "source": [
    "# !pip install google-genai"
   ]
  },
  {
   "cell_type": "code",
   "execution_count": 3,
   "id": "6b2e8d46-4c05-4f5c-816d-e535b6407cc5",
   "metadata": {},
   "outputs": [],
   "source": [
    "# !pip install strictjson"
   ]
  },
  {
   "cell_type": "markdown",
   "id": "eec4d668-87e9-4b7e-bc16-6a064b7880eb",
   "metadata": {},
   "source": [
    "# Interface with AgentJo"
   ]
  },
  {
   "cell_type": "code",
   "execution_count": 8,
   "id": "2051bd4f-ac22-4d89-9195-43128a3f721f",
   "metadata": {},
   "outputs": [],
   "source": [
    "# find agentjo from git repo without installing from pip\n",
    "import sys\n",
    "sys.path.append(os.path.abspath(os.path.join(os.path.dirname(os.getcwd()), '../../')))\n",
    "# # you still need to install strictjson though\n",
    "\n",
    "from agentjo import parse_yaml"
   ]
  },
  {
   "cell_type": "code",
   "execution_count": 11,
   "id": "b3349ae3-61ab-4f57-96b4-939846a8e07c",
   "metadata": {},
   "outputs": [],
   "source": [
    "def replace_image_marker_gemini(func):\n",
    "    \"\"\"\n",
    "    A decorator that scans the user prompt for markers in the form <<filename>>.\n",
    "    For each marker, it attempts to load an image either from a local file (e.g., .png, .jpg, etc.)\n",
    "    or from an HTTP URL, and replaces the marker with the corresponding image object.\n",
    "    Local images are loaded via PIL.Image, while HTTP images are fetched using requests\n",
    "    and wrapped as a types.Part for the Gemini API.\n",
    "    The resulting list (mixing text and images) is passed to the wrapped function.\n",
    "    \"\"\"\n",
    "    def wrapper(system_prompt: str, user_prompt: str, **kwargs):\n",
    "        import re\n",
    "        parts = re.split(r'<<(.*?)>>', user_prompt)\n",
    "        new_contents = []\n",
    "        for idx, part in enumerate(parts):\n",
    "            if idx % 2 == 1:\n",
    "                image_source = part.strip()\n",
    "                # Check if the marker is an HTTP(S) URL.\n",
    "                if image_source.startswith(\"http://\") or image_source.startswith(\"https://\"):\n",
    "                    try:\n",
    "                        import requests\n",
    "                        response = requests.get(image_source)\n",
    "                        response.raise_for_status()\n",
    "                        from google.genai import types\n",
    "                        # Try to get the MIME type from the response headers; default to image/jpeg.\n",
    "                        mime_type = response.headers.get(\"Content-Type\", \"image/jpeg\")\n",
    "                        new_contents.append(types.Part.from_bytes(data=response.content, mime_type=mime_type))\n",
    "                    except Exception as e:\n",
    "                        # If fetching the image fails, leave the marker as text.\n",
    "                        new_contents.append(f\"<<{part}>>\")\n",
    "                else:\n",
    "                    try:\n",
    "                        from PIL import Image\n",
    "                        image = Image.open(image_source)\n",
    "                        new_contents.append(image)\n",
    "                    except Exception as e:\n",
    "                        new_contents.append(f\"<<{part}>>\")\n",
    "            else:\n",
    "                if part:\n",
    "                    new_contents.append(part)\n",
    "        return func(system_prompt, new_contents, **kwargs)\n",
    "    return wrapper\n",
    "\n",
    "@replace_image_marker_gemini\n",
    "def llm(system_prompt: str, user_prompt, **kwargs):\n",
    "    \"\"\"\n",
    "    Calls the Gemini API. If the user_prompt has been processed into a list (via our decorator),\n",
    "    it is used directly as the contents; otherwise, the user_prompt is wrapped in a list.\n",
    "    \"\"\"\n",
    "    from google.genai import types\n",
    "    from google import genai\n",
    "    import os\n",
    "\n",
    "    client = genai.Client(api_key=os.environ['GEMINI_API_KEY'])\n",
    "\n",
    "    # Use the user_prompt directly if it's a list, otherwise wrap it.\n",
    "    contents = user_prompt if isinstance(user_prompt, list) else [user_prompt]\n",
    "\n",
    "    response = client.models.generate_content(\n",
    "        model=\"gemini-2.0-flash\",\n",
    "        config=types.GenerateContentConfig(system_instruction=system_prompt, temperature=0),\n",
    "        contents=contents\n",
    "    )\n",
    "    return response.text"
   ]
  },
  {
   "cell_type": "code",
   "execution_count": 12,
   "id": "02cd2d7d-5f1e-45d2-a115-0710f354e8cf",
   "metadata": {
    "scrolled": true
   },
   "outputs": [],
   "source": [
    "import requests\n",
    "import base64\n",
    "from PIL import Image\n",
    "from io import BytesIO\n",
    "from IPython.display import display\n",
    "import os\n",
    "\n",
    "BASE_URL = os.environ['BASE_URL']\n",
    "\n",
    "# Initialize the game\n",
    "# requests.post(f\"{BASE_URL}/init\", json={\"rom_path\": \"PokemonRed.gb\"})\n",
    "\n",
    "count = 0\n",
    "\n",
    "conversation = []\n",
    "context_schema = {\"Long-term Goals\": \"State your overall goals to win the game, be detailed and specific, list\",\n",
    "\"Short-term Goal\": \"State what you are trying to do now, be detailed and specific. Describe in detail how the game will be when the goal is completed\",\n",
    "\"Target Object or Menu Option to Navigate to\": \"State the target object in grid world or target menu option you are trying to navigate to, NA if nothing\",\n",
    "\"Important Information\": \"Important knowledge about the world that can help with goals\",\n",
    "\"Inventory\": \"Important items in inventory to help with goals\",\n",
    "\"Grid Coordinates Visited\": \"Update with Current Coordinates, list\",\n",
    "\"Map Transition Coordinates\": \"Updated with (map_id, x, y) -> (map_id, x, y) whenever a map_id is changed, list\",\n",
    "\"List of NPCs Interacted\": \"NPCs who you have interacted with in the form of Person_Name (map_id, x, y) - Summary of Dialogue, list\",\n",
    "\"List of Insights Gained\": \"Write what you have learned from your actions to help you to repeat good actions and avoid repeating bad ones. Be specific and write down full context, list\"}\n",
    "context = ''\n",
    "\n",
    "# delete past images\n",
    "from pathlib import Path\n",
    "folder = Path(\"Images\")\n",
    "for file in folder.glob(\"*\"):\n",
    "    if file.is_file():  # Check if it's a file\n",
    "        file.unlink()"
   ]
  },
  {
   "cell_type": "code",
   "execution_count": null,
   "id": "9602aa7b-37da-4b57-90c8-971a24fe21a4",
   "metadata": {},
   "outputs": [
    {
     "name": "stdout",
     "output_type": "stream",
     "text": [
      "<Response [200]>\n"
     ]
    },
    {
     "name": "stderr",
     "output_type": "stream",
     "text": [
      "c:\\Users\\nicho\\Documents\\RAG_U\\.conda\\Lib\\site-packages\\strictjson\\parse_yaml.py:163: UserWarning: LLM Parsing failed at attempt 1.\n",
      "Retrying...\n",
      "  warnings.warn(my_warning, UserWarning)\n",
      "c:\\Users\\nicho\\Documents\\RAG_U\\.conda\\Lib\\site-packages\\strictjson\\parse_yaml.py:163: UserWarning: LLM Parsing failed at attempt 2.\n",
      "Retrying...\n",
      "  warnings.warn(my_warning, UserWarning)\n"
     ]
    },
    {
     "name": "stdout",
     "output_type": "stream",
     "text": [
      "{'Current View': 'Dialogue',\n",
      " 'Description for State 1': 'The screen shows a dialogue box with the text '\n",
      "                            \"'inhabited by creatures called' and a black \"\n",
      "                            'cursor pointing down to indicate more text.',\n",
      " 'Coordinates for State 1': {'map_id': 38, 'x': 3, 'y': 6},\n",
      " 'Action for State 0': 'a',\n",
      " 'Prediction for State 1': 'The dialogue will advance.',\n",
      " 'Is Action Successful': True,\n",
      " 'Reflection': 'The dialogue advanced as predicted.',\n",
      " 'Thoughts': 'I am in a dialogue. I should advance the dialogue.',\n",
      " 'Action for State 1': 'a',\n",
      " 'Prediction for State 2': 'The dialogue will advance.',\n",
      " 'Updated Context': {'Long-term Goals': ['Beat the Elite Four and become '\n",
      "                                         'champion',\n",
      "                                         'Catch all the Pokemon'],\n",
      "                     'Short-term Goal': 'Advance the dialogue.',\n",
      "                     'Target Object or Menu Option to Navigate to': 'NA',\n",
      "                     'Important Information': 'NA',\n",
      "                     'Inventory': 'NA',\n",
      "                     'Grid Coordinates Visited': [],\n",
      "                     'Map Transition Coordinates': [],\n",
      "                     'List of NPCs Interacted': [],\n",
      "                     'List of Insights Gained': []}}\n"
     ]
    },
    {
     "data": {
      "image/png": "[encoded data removed]",
      "text/plain": [
       "<PIL.PngImagePlugin.PngImageFile image mode=RGBA size=160x144>"
      ]
     },
     "metadata": {},
     "output_type": "display_data"
    },
    {
     "name": "stdout",
     "output_type": "stream",
     "text": [
      "{'badges': {'badges': [], 'badges_byte': 0, 'count': 0}, 'events': {}, 'last_button': 'a', 'party': {'party_size': 0, 'pokemon': []}, 'position': {'map_id': 38, 'x': 3, 'y': 6}}\n"
     ]
    },
    {
     "ename": "KeyboardInterrupt",
     "evalue": "",
     "output_type": "error",
     "traceback": [
      "\u001b[31m---------------------------------------------------------------------------\u001b[39m",
      "\u001b[31mKeyboardInterrupt\u001b[39m                         Traceback (most recent call last)",
      "\u001b[36mCell\u001b[39m\u001b[36m \u001b[39m\u001b[32mIn[12]\u001b[39m\u001b[32m, line 93\u001b[39m\n\u001b[32m     90\u001b[39m display(screen_image)\n\u001b[32m     91\u001b[39m \u001b[38;5;28mprint\u001b[39m(game_state)\n\u001b[32m---> \u001b[39m\u001b[32m93\u001b[39m \u001b[43mtime\u001b[49m\u001b[43m.\u001b[49m\u001b[43msleep\u001b[49m\u001b[43m(\u001b[49m\u001b[32;43m5\u001b[39;49m\u001b[43m)\u001b[49m\n\u001b[32m     94\u001b[39m clear_output(wait=\u001b[38;5;28;01mTrue\u001b[39;00m)\n",
      "\u001b[31mKeyboardInterrupt\u001b[39m: "
     ]
    }
   ],
   "source": [
    "import pprint\n",
    "import json\n",
    "while True:\n",
    "    # Get the current screen\n",
    "    response = requests.get(f\"{BASE_URL}/screen?format=base64\")\n",
    "    print(response)\n",
    "    screen_data = response.json()[\"image\"]\n",
    "    screen_image = Image.open(BytesIO(base64.b64decode(screen_data)))\n",
    "    \n",
    "    # Save the image in the specified directory with a filename that includes the current count\n",
    "    screen_image.save(f\"Images/image_{count}.png\")\n",
    "\n",
    "    # Stitch image to current map\n",
    "    \n",
    "    # Get game state\n",
    "    game_state = requests.get(f\"{BASE_URL}/state\").json()\n",
    "    \n",
    "    # Make a decision based on the state and screen\n",
    "    # ... AI logic here ...\n",
    "    res = parse_yaml('''Based on the image and game state, make a decision of what to do next.\n",
    "If previous action did not match up to prediction, try other actions.\n",
    "\n",
    "Coordinates are given as (map_id, x, y), map_id being the id of the current map, x being the left to right axis, y being the up to down axis\n",
    "Every map as a unique map_id, if map_id changes, it is treated as changing location. You should explore the new location if it is unexplored.\n",
    "left in the negative x direction, e.g. (map_id, x, y) to (map_id, x-1, y)\n",
    "right in the positive x direction, e.g. (map_id, x, y) to (map_id, x+1, y),\n",
    "up in the negative y direction, e.g. (map_id, x, y) to (map_id, x, y-1)\n",
    "down in the positive y direction, e.g. (map_id, x, y) to (map_id, x, y+1)\n",
    "a is typically used for confirming actions, selecting options, and interacting with elements in the game. You can only interact with elements right next to you.\n",
    "b is typically used to cancel actions, go back to the previous screen, or exit menus\n",
    "start is used to open the main menu, allowing players to access options like the Pokémon menu, bag, items, and settings\n",
    "select is used to register key items, allowing players to quickly access them during gameplay\n",
    "\n",
    "You can only enter or exit places via doors, ladders, cave holes, staircases.\n",
    "If inside a house, you can exit via a rectangular floor rug and moving out of the house.\n",
    "Black map boundaries are not traversable.\n",
    "You are in red.\n",
    "\n",
    "Be detailed in your explanations.\n",
    "State whether the previous action is successful by seeing whether the predicted state is reflected in the Current State.\n",
    "Generate Insights if any, to repeat successful actions or to prevent making bad actions.\n",
    "Update the Current Context as Updated Context''',\n",
    "    f'''```\n",
    "Current State: {count}\n",
    "Current Game Image: <<Images/image_{count}.png>>\n",
    "Current RAM State: {game_state}\n",
    "Current Context: {context}\n",
    "```\n",
    "Last 100 Past States: {conversation[-100:]}''',\n",
    "    output_format = {\"Current View\": \"Enum['World Map', 'Dialogue', 'Menu', '2D Grid', 'Other']\",\n",
    "f\"Description for State {count}\": f'''Describe Current Game Image in detail for someone without the image to understand. \n",
    "Do not use details from previous Game Images.\n",
    "Only state what is there and do not hallucinate. Highlight the important information relevant to the Goal or Target Object. \n",
    "If dialogue or menu or battle, highlight the options and status and where the cursor is pointing to.\n",
    "If 2D grid view, state relative positions of all objects or NPCs with respect to the red player (you) using relative directions of top, bottom, left, right''',\n",
    "                     f\"Coordinates for State {count}\": \"State the (map_id, x, y) of Current RAM State\",\n",
    "                     f\"Action for State {count-1}\": \"Write exactly previous action, if any\",\n",
    "                     f\"Prediction for State {count}\": \"Write exactly previous prediction, if any\",\n",
    "                     \"Is Action Successful\": f\"Whether the Prediction for State {count} matches the Coordinates for State {count} or Description for State {count}, bool\",\n",
    "                     \"Reflection\": \"Reflect on why the action is successful or not successful\",\n",
    "                     \"Thoughts\": \"Describe whether past actions are successful and how you plan to achieve your goal\",\n",
    "                     f\"Action for State {count}\": \"Choose an action in line with Thoughts, Enum['up', 'down', 'left', 'right', 'a', 'b', 'start', 'select']\",\n",
    "                     f\"Prediction for State {count+1}\": \"What will happen after the action is done. If it is a movement, state coordinates or menu option that we will expect to be in\",\n",
    "                     \"Updated Context\": context_schema},\n",
    "                      llm = llm)\n",
    "\n",
    "    # Update the context\n",
    "    context = res[\"Updated Context\"]\n",
    "    \n",
    "    next_move = res[f\"Action for State {count}\"]\n",
    "    \n",
    "    # Add in what happened in previous state in conversation history\n",
    "    pprint.pprint(res, sort_dicts = False)\n",
    "\n",
    "    # Show the thoughts\n",
    "    thoughts = {'Current State': res[f'Description for State {count}'], 'Thoughts': res['Thoughts'], 'Action': res[f'Action for State {count}'], f'Prediction for State {count+1}': res[f'Prediction for State {count+1}']}\n",
    "    requests.post(f\"{BASE_URL}/agent/thoughts\", json={\"thought\": json.dumps(thoughts, indent=4)})\n",
    "\n",
    "    # Show the memory\n",
    "    requests.post(f\"{BASE_URL}/agent/memory\", json={\"memory\": json.dumps(context, indent=4)})\n",
    "\n",
    "    thoughts_internal = {f'Description for State {count}': res[f'Description for State {count}'], f'Thoughts for State {count}': res['Thoughts'], f'Action for State {count}': res[f'Action for State {count}'], f'Prediction for State {count+1}': res[f'Prediction for State {count+1}']}\n",
    "    thoughts_internal[f\"Game Image for State {count}\"] = f\"<<Images/image_{count}.png>>\"\n",
    "    conversation.append(json.dumps(thoughts_internal, indent=4))\n",
    "                      \n",
    "    # Increment count by 1 for the next image\n",
    "    count += 1\n",
    "    \n",
    "    # Execute an action\n",
    "    requests.post(f\"{BASE_URL}/button\", json={\"button\": next_move, \"delay\": 4})\n",
    "    \n",
    "    display(screen_image)\n",
    "    print(game_state)\n",
    "    \n",
    "    time.sleep(5)\n",
    "    clear_output(wait=True)"
   ]
  },
  {
   "cell_type": "code",
   "execution_count": null,
   "id": "cd274727-5388-40f3-afbd-87fe749e30ae",
   "metadata": {},
   "outputs": [
    {
     "name": "stdout",
     "output_type": "stream",
     "text": [
      "<Response [200]>\n",
      "0 0 0 0\n",
      "Image contains dialogue, skipping.\n",
      "No map found: Either input is invalid or current image is a dialogue/battle/shop dialouge\n"
     ]
    }
   ],
   "source": [
    "## Run with mapstitching\n",
    "\n",
    "import pprint\n",
    "import json\n",
    "from Mapstitching.run_imagestitching import run_imagestitching\n",
    "\n",
    "while True:\n",
    "    # Get the current screen\n",
    "    response = requests.get(f\"{BASE_URL}/screen?format=base64\")\n",
    "    print(response)\n",
    "    screen_data = response.json()[\"image\"]\n",
    "    screen_image = Image.open(BytesIO(base64.b64decode(screen_data)))\n",
    "    \n",
    "    # Save the image in the specified directory with a filename that includes the current count\n",
    "    screen_image.save(f\"Images/image_{count}.png\")\n",
    "\n",
    "    # Stitch image to current map\n",
    "    stitched_image_path, stitched_image = run_imagestitching(screen_image)  # possible outputs: str: \"INVALIDINPUT\", \"DIALOGUE\", numpy.ndarray: image (new map), stitched image (found in existing map)\n",
    "\n",
    "    if stitched_image_path in [\"INVALIDINPUT\", \"DIALOGUE\"]:\n",
    "        print(\"No map found: Either input is invalid or current image is a dialogue/battle/shop dialouge\")\n",
    "        map_image = \"No current map.\"\n",
    "        addmap = \"\"\n",
    "    else:\n",
    "        map_image = f\"<<{stitched_image_path[stitched_image_path.rindex('Maps'):]}>>\"\n",
    "        print(\"Map found at:\", stitched_image_path)\n",
    "        addmap = f\"\\nCurrent Map Image: {map_image}\"\n",
    "\n",
    "\n",
    "    # Get game state\n",
    "    game_state = requests.get(f\"{BASE_URL}/state\").json()\n",
    "    \n",
    "    # Make a decision based on the state and screen\n",
    "    # ... AI logic here ...\n",
    "    res = parse_yaml('''Based on the image and game state, make a decision of what to do next.\n",
    "If previous action did not match up to prediction, try other actions.\n",
    "\n",
    "Coordinates are given as (map_id, x, y), map_id being the id of the current map, x being the left to right axis, y being the up to down axis\n",
    "Every map as a unique map_id, if map_id changes, it is treated as changing location. You should explore the new location if it is unexplored.\n",
    "left in the negative x direction, e.g. (map_id, x, y) to (map_id, x-1, y)\n",
    "right in the positive x direction, e.g. (map_id, x, y) to (map_id, x+1, y),\n",
    "up in the negative y direction, e.g. (map_id, x, y) to (map_id, x, y-1)\n",
    "down in the positive y direction, e.g. (map_id, x, y) to (map_id, x, y+1)\n",
    "a is typically used for confirming actions, selecting options, and interacting with elements in the game. You can only interact with elements right next to you.\n",
    "b is typically used to cancel actions, go back to the previous screen, or exit menus\n",
    "start is used to open the main menu, allowing players to access options like the Pokémon menu, bag, items, and settings\n",
    "select is used to register key items, allowing players to quickly access them during gameplay\n",
    "\n",
    "You can only enter or exit places via doors, ladders, cave holes, staircases.\n",
    "If inside a house, you can exit via a rectangular floor rug and moving out of the house.\n",
    "Black map boundaries are not traversable.\n",
    "You are in red.\n",
    "\n",
    "Be detailed in your explanations.\n",
    "State whether the previous action is successful by seeing whether the predicted state is reflected in the Current State.\n",
    "Generate Insights if any, to repeat successful actions or to prevent making bad actions.\n",
    "Update the Current Context as Updated Context''',\n",
    "    f'''```\n",
    "Current State: {count}\n",
    "Current Game Image: <<Images/image_{count}.png>>{addmap}\n",
    "Current RAM State: {game_state}\n",
    "Current Context: {context}\n",
    "```\n",
    "Last 100 Past States: {conversation[-100:]}''',\n",
    "    output_format = {\"Current View\": \"Enum['World Map', 'Dialogue', 'Menu', '2D Grid', 'Other']\",\n",
    "f\"Description for State {count}\": f'''Describe Current Game Image in detail for someone without the image to understand. \n",
    "Do not use details from previous Game Images.\n",
    "Only state what is there and do not hallucinate. Highlight the important information relevant to the Goal or Target Object. \n",
    "If dialogue or menu or battle, highlight the options and status and where the cursor is pointing to.\n",
    "If 2D grid view, state relative positions of all objects or NPCs with respect to the red player (you) using relative directions of top, bottom, left, right''',\n",
    "                     f\"Coordinates for State {count}\": \"State the (map_id, x, y) of Current RAM State\",\n",
    "                     f\"Action for State {count-1}\": \"Write exactly previous action, if any\",\n",
    "                     f\"Prediction for State {count}\": \"Write exactly previous prediction, if any\",\n",
    "                     \"Is Action Successful\": f\"Whether the Prediction for State {count} matches the Coordinates for State {count} or Description for State {count}, bool\",\n",
    "                     \"Reflection\": \"Reflect on why the action is successful or not successful\",\n",
    "                     \"Thoughts\": \"Describe whether past actions are successful and how you plan to achieve your goal\",\n",
    "                     f\"Action for State {count}\": \"Choose an action in line with Thoughts, Enum['up', 'down', 'left', 'right', 'a', 'b', 'start', 'select']\",\n",
    "                     f\"Prediction for State {count+1}\": \"What will happen after the action is done. If it is a movement, state coordinates or menu option that we will expect to be in\",\n",
    "                     \"Updated Context\": context_schema},\n",
    "                      llm = llm)\n",
    "\n",
    "    # Update the context\n",
    "    context = res[\"Updated Context\"]\n",
    "    \n",
    "    next_move = res[f\"Action for State {count}\"]\n",
    "    \n",
    "    # Add in what happened in previous state in conversation history\n",
    "    pprint.pprint(res, sort_dicts = False)\n",
    "\n",
    "    # Show the thoughts\n",
    "    thoughts = {'Current State': res[f'Description for State {count}'], 'Thoughts': res['Thoughts'], 'Action': res[f'Action for State {count}'], f'Prediction for State {count+1}': res[f'Prediction for State {count+1}']}\n",
    "    requests.post(f\"{BASE_URL}/agent/thoughts\", json={\"thought\": json.dumps(thoughts, indent=4)})\n",
    "\n",
    "    # Show the memory\n",
    "    requests.post(f\"{BASE_URL}/agent/memory\", json={\"memory\": json.dumps(context, indent=4)})\n",
    "\n",
    "    thoughts_internal = {f'Description for State {count}': res[f'Description for State {count}'], f'Thoughts for State {count}': res['Thoughts'], f'Action for State {count}': res[f'Action for State {count}'], f'Prediction for State {count+1}': res[f'Prediction for State {count+1}']}\n",
    "    thoughts_internal[f\"Game Image for State {count}\"] = f\"<<Images/image_{count}.png>>\"\n",
    "    conversation.append(json.dumps(thoughts_internal, indent=4))\n",
    "                      \n",
    "    # Increment count by 1 for the next image\n",
    "    count += 1\n",
    "    \n",
    "    # Execute an action\n",
    "    requests.post(f\"{BASE_URL}/button\", json={\"button\": next_move, \"delay\": 4})\n",
    "    \n",
    "    display(screen_image)\n",
    "\n",
    "    print(game_state)\n",
    "    \n",
    "    time.sleep(5)\n",
    "    clear_output(wait=True)"
   ]
  },
  {
   "cell_type": "code",
   "execution_count": null,
   "id": "dbd14d0f",
   "metadata": {},
   "outputs": [],
   "source": []
  }
 ],
 "metadata": {
  "kernelspec": {
   "display_name": "Python 3",
   "language": "python",
   "name": "python3"
  },
  "language_info": {
   "codemirror_mode": {
    "name": "ipython",
    "version": 3
   },
   "file_extension": ".py",
   "mimetype": "text/x-python",
   "name": "python",
   "nbconvert_exporter": "python",
   "pygments_lexer": "ipython3",
   "version": "3.11.11"
  }
 },
 "nbformat": 4,
 "nbformat_minor": 5
}
