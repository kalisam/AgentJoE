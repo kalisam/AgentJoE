{
 "cells": [
  {
   "cell_type": "markdown",
   "id": "2b9de9dd-6a65-452e-b1a3-f19d22460cfb",
   "metadata": {},
   "source": [
    "# Main Game Logic"
   ]
  },
  {
   "cell_type": "code",
   "execution_count": 1,
   "id": "1216ac4a-24e0-4db3-b14f-93dcfc1917a9",
   "metadata": {},
   "outputs": [
    {
     "data": {
      "text/plain": [
       "True"
      ]
     },
     "execution_count": 1,
     "metadata": {},
     "output_type": "execute_result"
    }
   ],
   "source": [
    "from dotenv import load_dotenv\n",
    "# put your secret keys in your .env\n",
    "# For instance, if you are using OpenAI, your .env should contain\n",
    "# export OPENAI_API_KEY = \"sk-.......\"\n",
    "load_dotenv()"
   ]
  },
  {
   "cell_type": "code",
   "execution_count": 2,
   "id": "ccceba75-c43c-4614-96fd-6a186511fbf3",
   "metadata": {},
   "outputs": [],
   "source": [
    "# !pip install google-genai"
   ]
  },
  {
   "cell_type": "code",
   "execution_count": 3,
   "id": "6b2e8d46-4c05-4f5c-816d-e535b6407cc5",
   "metadata": {},
   "outputs": [],
   "source": [
    "# !pip install agentjo"
   ]
  },
  {
   "cell_type": "markdown",
   "id": "eec4d668-87e9-4b7e-bc16-6a064b7880eb",
   "metadata": {},
   "source": [
    "# Interface with AgentJo"
   ]
  },
  {
   "cell_type": "code",
   "execution_count": 4,
   "id": "2051bd4f-ac22-4d89-9195-43128a3f721f",
   "metadata": {},
   "outputs": [],
   "source": [
    "from agentjo import strict_json"
   ]
  },
  {
   "cell_type": "code",
   "execution_count": 5,
   "id": "b3349ae3-61ab-4f57-96b4-939846a8e07c",
   "metadata": {},
   "outputs": [],
   "source": [
    "def replace_image_marker_gemini(func):\n",
    "    \"\"\"\n",
    "    A decorator that scans the user prompt for markers in the form <<filename>>.\n",
    "    For each marker, it attempts to load an image either from a local file (e.g., .png, .jpg, etc.)\n",
    "    or from an HTTP URL, and replaces the marker with the corresponding image object.\n",
    "    Local images are loaded via PIL.Image, while HTTP images are fetched using requests\n",
    "    and wrapped as a types.Part for the Gemini API.\n",
    "    The resulting list (mixing text and images) is passed to the wrapped function.\n",
    "    \"\"\"\n",
    "    def wrapper(system_prompt: str, user_prompt: str):\n",
    "        import re\n",
    "        parts = re.split(r'<<(.*?)>>', user_prompt)\n",
    "        new_contents = []\n",
    "        for idx, part in enumerate(parts):\n",
    "            if idx % 2 == 1:\n",
    "                image_source = part.strip()\n",
    "                # Check if the marker is an HTTP(S) URL.\n",
    "                if image_source.startswith(\"http://\") or image_source.startswith(\"https://\"):\n",
    "                    try:\n",
    "                        import requests\n",
    "                        response = requests.get(image_source)\n",
    "                        response.raise_for_status()\n",
    "                        from google.genai import types\n",
    "                        # Try to get the MIME type from the response headers; default to image/jpeg.\n",
    "                        mime_type = response.headers.get(\"Content-Type\", \"image/jpeg\")\n",
    "                        new_contents.append(types.Part.from_bytes(data=response.content, mime_type=mime_type))\n",
    "                    except Exception as e:\n",
    "                        # If fetching the image fails, leave the marker as text.\n",
    "                        new_contents.append(f\"<<{part}>>\")\n",
    "                else:\n",
    "                    try:\n",
    "                        from PIL import Image\n",
    "                        image = Image.open(image_source)\n",
    "                        new_contents.append(image)\n",
    "                    except Exception as e:\n",
    "                        new_contents.append(f\"<<{part}>>\")\n",
    "            else:\n",
    "                if part:\n",
    "                    new_contents.append(part)\n",
    "        return func(system_prompt, new_contents)\n",
    "    return wrapper\n",
    "\n",
    "@replace_image_marker_gemini\n",
    "def llm(system_prompt: str, user_prompt):\n",
    "    \"\"\"\n",
    "    Calls the Gemini API. If the user_prompt has been processed into a list (via our decorator),\n",
    "    it is used directly as the contents; otherwise, the user_prompt is wrapped in a list.\n",
    "    \"\"\"\n",
    "    from google.genai import types\n",
    "    from google import genai\n",
    "    import os\n",
    "\n",
    "    client = genai.Client(api_key=os.environ['GEMINI_API_KEY'])\n",
    "\n",
    "    # Use the user_prompt directly if it's a list, otherwise wrap it.\n",
    "    contents = user_prompt if isinstance(user_prompt, list) else [user_prompt]\n",
    "\n",
    "    response = client.models.generate_content(\n",
    "        model=\"gemini-2.0-flash\",\n",
    "        config=types.GenerateContentConfig(system_instruction=system_prompt, temperature=0),\n",
    "        contents=contents\n",
    "    )\n",
    "    return response.text"
   ]
  },
  {
   "cell_type": "code",
   "execution_count": 6,
   "id": "02cd2d7d-5f1e-45d2-a115-0710f354e8cf",
   "metadata": {},
   "outputs": [],
   "source": [
    "import requests\n",
    "import base64\n",
    "from PIL import Image\n",
    "from io import BytesIO\n",
    "from IPython.display import display\n",
    "import os\n",
    "\n",
    "BASE_URL = os.environ['BASE_URL']\n",
    "\n",
    "# Initialize the game\n",
    "# requests.post(f\"{BASE_URL}/init\", json={\"rom_path\": \"PokemonRed.gb\"})\n",
    "\n",
    "count = 0\n",
    "\n",
    "conversation = []\n",
    "context = ''"
   ]
  },
  {
   "cell_type": "code",
   "execution_count": 28,
   "id": "9602aa7b-37da-4b57-90c8-971a24fe21a4",
   "metadata": {},
   "outputs": [
    {
     "name": "stdout",
     "output_type": "stream",
     "text": [
      "{'Current State': 'The player is standing in the room after playing the SNES.', 'Thoughts': 'The player is about to leave the room. Move down to exit.', 'Next Action': 'down', 'Game Image': '<<Images/image_20.png>>'}\n"
     ]
    },
    {
     "data": {
      "image/png": "[encoded data removed]",
      "text/plain": [
       "<PIL.PngImagePlugin.PngImageFile image mode=RGBA size=160x144>"
      ]
     },
     "metadata": {},
     "output_type": "display_data"
    },
    {
     "name": "stdout",
     "output_type": "stream",
     "text": [
      "Context: The player has finished playing the SNES and is about to leave the room.\n",
      "{'badges': {'badges': [], 'badges_byte': 0, 'count': 0}, 'events': {}, 'last_button': 'down', 'party': {'party_size': 0, 'pokemon': []}, 'position': {'map_id': 38, 'x': 3, 'y': 7}}\n"
     ]
    }
   ],
   "source": [
    "# Get the current screen\n",
    "response = requests.get(f\"{BASE_URL}/screen?format=base64\")\n",
    "screen_data = response.json()[\"image\"]\n",
    "screen_image = Image.open(BytesIO(base64.b64decode(screen_data)))\n",
    "\n",
    "# Save the image in the specified directory with a filename that includes the current count\n",
    "screen_image.save(f\"Images/image_{count}.png\")\n",
    "\n",
    "# Get game state\n",
    "game_state = requests.get(f\"{BASE_URL}/state\").json()\n",
    "\n",
    "# Make a decision based on the state and screen\n",
    "# ... AI logic here ...\n",
    "res = strict_json('''Based on the image and game state, make a decision of what to do next.\n",
    "If previous actions failed, try other alternatives.\n",
    "The player can be in a dialogue, or can be exploring a 2D map.\n",
    "Coordinates are given as (x, y), x being the left to right axis, y being the up to down axis\n",
    "left moves in the negative x direction, e.g. (x, y) to (x-1, y)\n",
    "right moves in the positive x direction, e.g. (x, y) to (x+1, y),\n",
    "up moves in the negative y direction, e.g. (x, y) to (x, y-1)\n",
    "down moves in the positive y direction, e.g. (x, y) to (x, y+1)\n",
    "a is typically used for confirming actions, selecting options, and interacting with elements in the game\n",
    "b is typically used to cancel actions, go back to the previous screen, or exit menus\n",
    "start is used to open the main menu, allowing players to access options like the Pokémon menu, bag, items, and settings\n",
    "select is used to register key items, allowing players to quickly access them during gameplay''',\n",
    "f'''Game Image: <<Images/image_{count}.png>>\n",
    "Game State: {game_state}\n",
    "Existing Context: {context}\n",
    "Past Conversation: {conversation[:-5]}''',\n",
    "output_format = {\"Current State\": \"Describe what is happening right now based on Game Image and Game State\",\n",
    "                 \"Thoughts\": \"What to do next\",\n",
    "                 \"Next Action\": \"type: Enum['up', 'down', 'left', 'right', 'a', 'b', 'start', 'select']\",\n",
    "                 \"Updated Context\": \"Update Existing Context with what has been done\"},\n",
    "                  llm = llm)\n",
    "\n",
    "next_move = res[\"Next Action\"]\n",
    "\n",
    "# Add in what happened in previous state in conversation history\n",
    "context = res[\"Updated Context\"]\n",
    "del res[\"Updated Context\"]\n",
    "res[\"Game Image\"] = f\"<<Images/image_{count}.png>>\"\n",
    "conversation.append(str(res))\n",
    "                  \n",
    "# Increment count by 1 for the next image\n",
    "count += 1\n",
    "\n",
    "# # Execute an action\n",
    "requests.post(f\"{BASE_URL}/button\", json={\"button\": next_move})\n",
    "\n",
    "print(res)\n",
    "display(screen_image)\n",
    "print(\"Context:\", context)\n",
    "print(game_state)"
   ]
  },
  {
   "cell_type": "code",
   "execution_count": null,
   "id": "813b14b7-5473-4513-bdf6-4057234ffb3b",
   "metadata": {},
   "outputs": [],
   "source": []
  }
 ],
 "metadata": {
  "kernelspec": {
   "display_name": "Python 3 (ipykernel)",
   "language": "python",
   "name": "python3"
  },
  "language_info": {
   "codemirror_mode": {
    "name": "ipython",
    "version": 3
   },
   "file_extension": ".py",
   "mimetype": "text/x-python",
   "name": "python",
   "nbconvert_exporter": "python",
   "pygments_lexer": "ipython3",
   "version": "3.12.2"
  }
 },
 "nbformat": 4,
 "nbformat_minor": 5
}
